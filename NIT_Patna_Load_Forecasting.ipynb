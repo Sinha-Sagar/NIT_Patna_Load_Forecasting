{
  "nbformat": 4,
  "nbformat_minor": 0,
  "metadata": {
    "colab": {
      "provenance": [],
      "authorship_tag": "ABX9TyNf18EhGTSg+YbJuLMG8Yav",
      "include_colab_link": true
    },
    "kernelspec": {
      "name": "python3",
      "display_name": "Python 3"
    },
    "language_info": {
      "name": "python"
    }
  },
  "cells": [
    {
      "cell_type": "markdown",
      "metadata": {
        "id": "view-in-github",
        "colab_type": "text"
      },
      "source": [
        "<a href=\"https://colab.research.google.com/github/Sinha-Sagar/NIT_Patna_Load_Forecasting/blob/main/NIT_Patna_Load_Forecasting.ipynb\" target=\"_parent\"><img src=\"https://colab.research.google.com/assets/colab-badge.svg\" alt=\"Open In Colab\"/></a>"
      ]
    },
    {
      "cell_type": "markdown",
      "source": [
        "#Installing Library"
      ],
      "metadata": {
        "id": "3eXxF1lo9oV7"
      }
    },
    {
      "cell_type": "code",
      "source": [
        "!pip install pmdarima"
      ],
      "metadata": {
        "colab": {
          "base_uri": "https://localhost:8080/"
        },
        "id": "0fmf2Rvr_fzR",
        "outputId": "0fd92795-762e-47db-8b55-ffa36808eb06"
      },
      "execution_count": 1,
      "outputs": [
        {
          "output_type": "stream",
          "name": "stdout",
          "text": [
            "Looking in indexes: https://pypi.org/simple, https://us-python.pkg.dev/colab-wheels/public/simple/\n",
            "Requirement already satisfied: pmdarima in /usr/local/lib/python3.8/dist-packages (2.0.2)\n",
            "Requirement already satisfied: urllib3 in /usr/local/lib/python3.8/dist-packages (from pmdarima) (1.24.3)\n",
            "Requirement already satisfied: setuptools!=50.0.0,>=38.6.0 in /usr/local/lib/python3.8/dist-packages (from pmdarima) (57.4.0)\n",
            "Requirement already satisfied: pandas>=0.19 in /usr/local/lib/python3.8/dist-packages (from pmdarima) (1.3.5)\n",
            "Requirement already satisfied: joblib>=0.11 in /usr/local/lib/python3.8/dist-packages (from pmdarima) (1.2.0)\n",
            "Requirement already satisfied: Cython!=0.29.18,!=0.29.31,>=0.29 in /usr/local/lib/python3.8/dist-packages (from pmdarima) (0.29.33)\n",
            "Requirement already satisfied: scikit-learn>=0.22 in /usr/local/lib/python3.8/dist-packages (from pmdarima) (1.0.2)\n",
            "Requirement already satisfied: statsmodels>=0.13.2 in /usr/local/lib/python3.8/dist-packages (from pmdarima) (0.13.5)\n",
            "Requirement already satisfied: numpy>=1.21.2 in /usr/local/lib/python3.8/dist-packages (from pmdarima) (1.21.6)\n",
            "Requirement already satisfied: scipy>=1.3.2 in /usr/local/lib/python3.8/dist-packages (from pmdarima) (1.7.3)\n",
            "Requirement already satisfied: pytz>=2017.3 in /usr/local/lib/python3.8/dist-packages (from pandas>=0.19->pmdarima) (2022.7.1)\n",
            "Requirement already satisfied: python-dateutil>=2.7.3 in /usr/local/lib/python3.8/dist-packages (from pandas>=0.19->pmdarima) (2.8.2)\n",
            "Requirement already satisfied: threadpoolctl>=2.0.0 in /usr/local/lib/python3.8/dist-packages (from scikit-learn>=0.22->pmdarima) (3.1.0)\n",
            "Requirement already satisfied: packaging>=21.3 in /usr/local/lib/python3.8/dist-packages (from statsmodels>=0.13.2->pmdarima) (23.0)\n",
            "Requirement already satisfied: patsy>=0.5.2 in /usr/local/lib/python3.8/dist-packages (from statsmodels>=0.13.2->pmdarima) (0.5.3)\n",
            "Requirement already satisfied: six in /usr/local/lib/python3.8/dist-packages (from patsy>=0.5.2->statsmodels>=0.13.2->pmdarima) (1.15.0)\n"
          ]
        }
      ]
    },
    {
      "cell_type": "code",
      "source": [
        "!pip install statsmodels --upgrade"
      ],
      "metadata": {
        "colab": {
          "base_uri": "https://localhost:8080/"
        },
        "id": "cCcq1zLqrivi",
        "outputId": "5d5ae925-dde1-4181-c06d-d9978344af51"
      },
      "execution_count": 2,
      "outputs": [
        {
          "output_type": "stream",
          "name": "stdout",
          "text": [
            "Looking in indexes: https://pypi.org/simple, https://us-python.pkg.dev/colab-wheels/public/simple/\n",
            "Requirement already satisfied: statsmodels in /usr/local/lib/python3.8/dist-packages (0.13.5)\n",
            "Requirement already satisfied: numpy>=1.17 in /usr/local/lib/python3.8/dist-packages (from statsmodels) (1.21.6)\n",
            "Requirement already satisfied: packaging>=21.3 in /usr/local/lib/python3.8/dist-packages (from statsmodels) (23.0)\n",
            "Requirement already satisfied: pandas>=0.25 in /usr/local/lib/python3.8/dist-packages (from statsmodels) (1.3.5)\n",
            "Requirement already satisfied: patsy>=0.5.2 in /usr/local/lib/python3.8/dist-packages (from statsmodels) (0.5.3)\n",
            "Requirement already satisfied: scipy>=1.3 in /usr/local/lib/python3.8/dist-packages (from statsmodels) (1.7.3)\n",
            "Requirement already satisfied: pytz>=2017.3 in /usr/local/lib/python3.8/dist-packages (from pandas>=0.25->statsmodels) (2022.7.1)\n",
            "Requirement already satisfied: python-dateutil>=2.7.3 in /usr/local/lib/python3.8/dist-packages (from pandas>=0.25->statsmodels) (2.8.2)\n",
            "Requirement already satisfied: six in /usr/local/lib/python3.8/dist-packages (from patsy>=0.5.2->statsmodels) (1.15.0)\n"
          ]
        }
      ]
    },
    {
      "cell_type": "markdown",
      "source": [
        "#Giving Google Colab Access to Google Drive"
      ],
      "metadata": {
        "id": "q1Rvod7k93Gs"
      }
    },
    {
      "cell_type": "code",
      "source": [
        "from google.colab import drive\n",
        "drive.mount('/content/drive/')"
      ],
      "metadata": {
        "colab": {
          "base_uri": "https://localhost:8080/"
        },
        "id": "ICQ778t__l4e",
        "outputId": "0e1debbb-839d-4662-fce5-68334b3587a5"
      },
      "execution_count": 3,
      "outputs": [
        {
          "output_type": "stream",
          "name": "stdout",
          "text": [
            "Drive already mounted at /content/drive/; to attempt to forcibly remount, call drive.mount(\"/content/drive/\", force_remount=True).\n"
          ]
        }
      ]
    },
    {
      "cell_type": "code",
      "source": [
        "import os\n",
        "os.listdir('/content/drive/')"
      ],
      "metadata": {
        "colab": {
          "base_uri": "https://localhost:8080/"
        },
        "id": "A0Dm1g89_qwr",
        "outputId": "2020df4b-ccf4-4c74-f622-523a076fefda"
      },
      "execution_count": 4,
      "outputs": [
        {
          "output_type": "execute_result",
          "data": {
            "text/plain": [
              "['MyDrive', '.shortcut-targets-by-id', '.file-revisions-by-id', '.Trash-0']"
            ]
          },
          "metadata": {},
          "execution_count": 4
        }
      ]
    },
    {
      "cell_type": "markdown",
      "source": [
        "#Importing Important Pyton Libraries"
      ],
      "metadata": {
        "id": "mN6QPvSV-Ltw"
      }
    },
    {
      "cell_type": "code",
      "source": [
        "import numpy as np\n",
        "import pandas as pd\n",
        "from matplotlib import pyplot\n",
        "from pmdarima import auto_arima\n",
        "from statsmodels.tsa.ar_model import AutoReg"
      ],
      "metadata": {
        "id": "kAvSlvBD_rhi"
      },
      "execution_count": 5,
      "outputs": []
    },
    {
      "cell_type": "markdown",
      "source": [
        "#Accessing The Data to Train Model"
      ],
      "metadata": {
        "id": "Sr7wTHtu-V8Z"
      }
    },
    {
      "cell_type": "code",
      "source": [
        "df = pd.read_csv('/content/drive/MyDrive/NITP_data.csv')\n",
        "df"
      ],
      "metadata": {
        "id": "indo08xb-JBH",
        "colab": {
          "base_uri": "https://localhost:8080/",
          "height": 423
        },
        "outputId": "9139b810-a38a-45ed-a715-4286fe57f528"
      },
      "execution_count": 6,
      "outputs": [
        {
          "output_type": "execute_result",
          "data": {
            "text/plain": [
              "      Log Date / Time  NBCC FEEDER PILLER  LIBRARY BLDG  GIRLS HOSTEL  \\\n",
              "0    01-01-2020 00:00                 0.0           0.0           0.0   \n",
              "1    02-01-2020 00:00                 0.0           0.0           0.0   \n",
              "2    03-01-2020 00:00                 0.0           0.0           0.0   \n",
              "3    04-01-2020 00:00                 0.0           0.0           0.0   \n",
              "4    05-01-2020 00:00                 0.0           0.0           0.0   \n",
              "..                ...                 ...           ...           ...   \n",
              "361  27-12-2020 00:00                 0.0           0.0           0.0   \n",
              "362  28-12-2020 00:00                 0.0           0.0           0.0   \n",
              "363  29-12-2020 00:00                 0.0           0.0           0.0   \n",
              "364  30-12-2020 00:00                 0.0           0.0           0.0   \n",
              "365  31-12-2020 00:00                 0.0           0.0           0.0   \n",
              "\n",
              "     MAIN BLDG  CIVIL BLDG  FEEDER PILLER 4  FEEDER PILLER 2  SAC BLDG  \\\n",
              "0          0.0         0.0              0.0          1041.41    181.26   \n",
              "1          0.0         0.0              0.0           985.79    194.38   \n",
              "2          0.0         0.0              0.0           996.35    200.86   \n",
              "3          0.0         0.0              0.0           920.51    171.73   \n",
              "4          0.0         0.0              0.0           887.94    133.01   \n",
              "..         ...         ...              ...              ...       ...   \n",
              "361        0.0         0.0              0.0           882.75     61.39   \n",
              "362        0.0         0.0              0.0           913.34     70.77   \n",
              "363        0.0         0.0              0.0           929.22     80.80   \n",
              "364        0.0         0.0              0.0           895.49     74.69   \n",
              "365        0.0         0.0              0.0           954.24     76.80   \n",
              "\n",
              "     FEEDER PILLER 5  MAIN POWER  \n",
              "0             367.04        7.28  \n",
              "1             355.01        8.31  \n",
              "2             348.99        8.30  \n",
              "3             344.93        6.64  \n",
              "4             376.06        5.65  \n",
              "..               ...         ...  \n",
              "361           345.09        4.88  \n",
              "362           326.85        7.16  \n",
              "363           391.17        6.60  \n",
              "364           394.14        6.47  \n",
              "365           390.40        6.71  \n",
              "\n",
              "[366 rows x 11 columns]"
            ],
            "text/html": [
              "\n",
              "  <div id=\"df-1912d47d-0bda-4fba-a549-16a7b930e64a\">\n",
              "    <div class=\"colab-df-container\">\n",
              "      <div>\n",
              "<style scoped>\n",
              "    .dataframe tbody tr th:only-of-type {\n",
              "        vertical-align: middle;\n",
              "    }\n",
              "\n",
              "    .dataframe tbody tr th {\n",
              "        vertical-align: top;\n",
              "    }\n",
              "\n",
              "    .dataframe thead th {\n",
              "        text-align: right;\n",
              "    }\n",
              "</style>\n",
              "<table border=\"1\" class=\"dataframe\">\n",
              "  <thead>\n",
              "    <tr style=\"text-align: right;\">\n",
              "      <th></th>\n",
              "      <th>Log Date / Time</th>\n",
              "      <th>NBCC FEEDER PILLER</th>\n",
              "      <th>LIBRARY BLDG</th>\n",
              "      <th>GIRLS HOSTEL</th>\n",
              "      <th>MAIN BLDG</th>\n",
              "      <th>CIVIL BLDG</th>\n",
              "      <th>FEEDER PILLER 4</th>\n",
              "      <th>FEEDER PILLER 2</th>\n",
              "      <th>SAC BLDG</th>\n",
              "      <th>FEEDER PILLER 5</th>\n",
              "      <th>MAIN POWER</th>\n",
              "    </tr>\n",
              "  </thead>\n",
              "  <tbody>\n",
              "    <tr>\n",
              "      <th>0</th>\n",
              "      <td>01-01-2020 00:00</td>\n",
              "      <td>0.0</td>\n",
              "      <td>0.0</td>\n",
              "      <td>0.0</td>\n",
              "      <td>0.0</td>\n",
              "      <td>0.0</td>\n",
              "      <td>0.0</td>\n",
              "      <td>1041.41</td>\n",
              "      <td>181.26</td>\n",
              "      <td>367.04</td>\n",
              "      <td>7.28</td>\n",
              "    </tr>\n",
              "    <tr>\n",
              "      <th>1</th>\n",
              "      <td>02-01-2020 00:00</td>\n",
              "      <td>0.0</td>\n",
              "      <td>0.0</td>\n",
              "      <td>0.0</td>\n",
              "      <td>0.0</td>\n",
              "      <td>0.0</td>\n",
              "      <td>0.0</td>\n",
              "      <td>985.79</td>\n",
              "      <td>194.38</td>\n",
              "      <td>355.01</td>\n",
              "      <td>8.31</td>\n",
              "    </tr>\n",
              "    <tr>\n",
              "      <th>2</th>\n",
              "      <td>03-01-2020 00:00</td>\n",
              "      <td>0.0</td>\n",
              "      <td>0.0</td>\n",
              "      <td>0.0</td>\n",
              "      <td>0.0</td>\n",
              "      <td>0.0</td>\n",
              "      <td>0.0</td>\n",
              "      <td>996.35</td>\n",
              "      <td>200.86</td>\n",
              "      <td>348.99</td>\n",
              "      <td>8.30</td>\n",
              "    </tr>\n",
              "    <tr>\n",
              "      <th>3</th>\n",
              "      <td>04-01-2020 00:00</td>\n",
              "      <td>0.0</td>\n",
              "      <td>0.0</td>\n",
              "      <td>0.0</td>\n",
              "      <td>0.0</td>\n",
              "      <td>0.0</td>\n",
              "      <td>0.0</td>\n",
              "      <td>920.51</td>\n",
              "      <td>171.73</td>\n",
              "      <td>344.93</td>\n",
              "      <td>6.64</td>\n",
              "    </tr>\n",
              "    <tr>\n",
              "      <th>4</th>\n",
              "      <td>05-01-2020 00:00</td>\n",
              "      <td>0.0</td>\n",
              "      <td>0.0</td>\n",
              "      <td>0.0</td>\n",
              "      <td>0.0</td>\n",
              "      <td>0.0</td>\n",
              "      <td>0.0</td>\n",
              "      <td>887.94</td>\n",
              "      <td>133.01</td>\n",
              "      <td>376.06</td>\n",
              "      <td>5.65</td>\n",
              "    </tr>\n",
              "    <tr>\n",
              "      <th>...</th>\n",
              "      <td>...</td>\n",
              "      <td>...</td>\n",
              "      <td>...</td>\n",
              "      <td>...</td>\n",
              "      <td>...</td>\n",
              "      <td>...</td>\n",
              "      <td>...</td>\n",
              "      <td>...</td>\n",
              "      <td>...</td>\n",
              "      <td>...</td>\n",
              "      <td>...</td>\n",
              "    </tr>\n",
              "    <tr>\n",
              "      <th>361</th>\n",
              "      <td>27-12-2020 00:00</td>\n",
              "      <td>0.0</td>\n",
              "      <td>0.0</td>\n",
              "      <td>0.0</td>\n",
              "      <td>0.0</td>\n",
              "      <td>0.0</td>\n",
              "      <td>0.0</td>\n",
              "      <td>882.75</td>\n",
              "      <td>61.39</td>\n",
              "      <td>345.09</td>\n",
              "      <td>4.88</td>\n",
              "    </tr>\n",
              "    <tr>\n",
              "      <th>362</th>\n",
              "      <td>28-12-2020 00:00</td>\n",
              "      <td>0.0</td>\n",
              "      <td>0.0</td>\n",
              "      <td>0.0</td>\n",
              "      <td>0.0</td>\n",
              "      <td>0.0</td>\n",
              "      <td>0.0</td>\n",
              "      <td>913.34</td>\n",
              "      <td>70.77</td>\n",
              "      <td>326.85</td>\n",
              "      <td>7.16</td>\n",
              "    </tr>\n",
              "    <tr>\n",
              "      <th>363</th>\n",
              "      <td>29-12-2020 00:00</td>\n",
              "      <td>0.0</td>\n",
              "      <td>0.0</td>\n",
              "      <td>0.0</td>\n",
              "      <td>0.0</td>\n",
              "      <td>0.0</td>\n",
              "      <td>0.0</td>\n",
              "      <td>929.22</td>\n",
              "      <td>80.80</td>\n",
              "      <td>391.17</td>\n",
              "      <td>6.60</td>\n",
              "    </tr>\n",
              "    <tr>\n",
              "      <th>364</th>\n",
              "      <td>30-12-2020 00:00</td>\n",
              "      <td>0.0</td>\n",
              "      <td>0.0</td>\n",
              "      <td>0.0</td>\n",
              "      <td>0.0</td>\n",
              "      <td>0.0</td>\n",
              "      <td>0.0</td>\n",
              "      <td>895.49</td>\n",
              "      <td>74.69</td>\n",
              "      <td>394.14</td>\n",
              "      <td>6.47</td>\n",
              "    </tr>\n",
              "    <tr>\n",
              "      <th>365</th>\n",
              "      <td>31-12-2020 00:00</td>\n",
              "      <td>0.0</td>\n",
              "      <td>0.0</td>\n",
              "      <td>0.0</td>\n",
              "      <td>0.0</td>\n",
              "      <td>0.0</td>\n",
              "      <td>0.0</td>\n",
              "      <td>954.24</td>\n",
              "      <td>76.80</td>\n",
              "      <td>390.40</td>\n",
              "      <td>6.71</td>\n",
              "    </tr>\n",
              "  </tbody>\n",
              "</table>\n",
              "<p>366 rows × 11 columns</p>\n",
              "</div>\n",
              "      <button class=\"colab-df-convert\" onclick=\"convertToInteractive('df-1912d47d-0bda-4fba-a549-16a7b930e64a')\"\n",
              "              title=\"Convert this dataframe to an interactive table.\"\n",
              "              style=\"display:none;\">\n",
              "        \n",
              "  <svg xmlns=\"http://www.w3.org/2000/svg\" height=\"24px\"viewBox=\"0 0 24 24\"\n",
              "       width=\"24px\">\n",
              "    <path d=\"M0 0h24v24H0V0z\" fill=\"none\"/>\n",
              "    <path d=\"M18.56 5.44l.94 2.06.94-2.06 2.06-.94-2.06-.94-.94-2.06-.94 2.06-2.06.94zm-11 1L8.5 8.5l.94-2.06 2.06-.94-2.06-.94L8.5 2.5l-.94 2.06-2.06.94zm10 10l.94 2.06.94-2.06 2.06-.94-2.06-.94-.94-2.06-.94 2.06-2.06.94z\"/><path d=\"M17.41 7.96l-1.37-1.37c-.4-.4-.92-.59-1.43-.59-.52 0-1.04.2-1.43.59L10.3 9.45l-7.72 7.72c-.78.78-.78 2.05 0 2.83L4 21.41c.39.39.9.59 1.41.59.51 0 1.02-.2 1.41-.59l7.78-7.78 2.81-2.81c.8-.78.8-2.07 0-2.86zM5.41 20L4 18.59l7.72-7.72 1.47 1.35L5.41 20z\"/>\n",
              "  </svg>\n",
              "      </button>\n",
              "      \n",
              "  <style>\n",
              "    .colab-df-container {\n",
              "      display:flex;\n",
              "      flex-wrap:wrap;\n",
              "      gap: 12px;\n",
              "    }\n",
              "\n",
              "    .colab-df-convert {\n",
              "      background-color: #E8F0FE;\n",
              "      border: none;\n",
              "      border-radius: 50%;\n",
              "      cursor: pointer;\n",
              "      display: none;\n",
              "      fill: #1967D2;\n",
              "      height: 32px;\n",
              "      padding: 0 0 0 0;\n",
              "      width: 32px;\n",
              "    }\n",
              "\n",
              "    .colab-df-convert:hover {\n",
              "      background-color: #E2EBFA;\n",
              "      box-shadow: 0px 1px 2px rgba(60, 64, 67, 0.3), 0px 1px 3px 1px rgba(60, 64, 67, 0.15);\n",
              "      fill: #174EA6;\n",
              "    }\n",
              "\n",
              "    [theme=dark] .colab-df-convert {\n",
              "      background-color: #3B4455;\n",
              "      fill: #D2E3FC;\n",
              "    }\n",
              "\n",
              "    [theme=dark] .colab-df-convert:hover {\n",
              "      background-color: #434B5C;\n",
              "      box-shadow: 0px 1px 3px 1px rgba(0, 0, 0, 0.15);\n",
              "      filter: drop-shadow(0px 1px 2px rgba(0, 0, 0, 0.3));\n",
              "      fill: #FFFFFF;\n",
              "    }\n",
              "  </style>\n",
              "\n",
              "      <script>\n",
              "        const buttonEl =\n",
              "          document.querySelector('#df-1912d47d-0bda-4fba-a549-16a7b930e64a button.colab-df-convert');\n",
              "        buttonEl.style.display =\n",
              "          google.colab.kernel.accessAllowed ? 'block' : 'none';\n",
              "\n",
              "        async function convertToInteractive(key) {\n",
              "          const element = document.querySelector('#df-1912d47d-0bda-4fba-a549-16a7b930e64a');\n",
              "          const dataTable =\n",
              "            await google.colab.kernel.invokeFunction('convertToInteractive',\n",
              "                                                     [key], {});\n",
              "          if (!dataTable) return;\n",
              "\n",
              "          const docLinkHtml = 'Like what you see? Visit the ' +\n",
              "            '<a target=\"_blank\" href=https://colab.research.google.com/notebooks/data_table.ipynb>data table notebook</a>'\n",
              "            + ' to learn more about interactive tables.';\n",
              "          element.innerHTML = '';\n",
              "          dataTable['output_type'] = 'display_data';\n",
              "          await google.colab.output.renderOutput(dataTable, element);\n",
              "          const docLink = document.createElement('div');\n",
              "          docLink.innerHTML = docLinkHtml;\n",
              "          element.appendChild(docLink);\n",
              "        }\n",
              "      </script>\n",
              "    </div>\n",
              "  </div>\n",
              "  "
            ]
          },
          "metadata": {},
          "execution_count": 6
        }
      ]
    },
    {
      "cell_type": "markdown",
      "source": [
        "#Making Required Changes to Data"
      ],
      "metadata": {
        "id": "HIg0klr4-wGI"
      }
    },
    {
      "cell_type": "code",
      "source": [
        "def add_new(x):\n",
        "  y = df[df['Log Date / Time'] == x].index.values[0]\n",
        "  return np.array(df.iloc[y][1:]).sum()"
      ],
      "metadata": {
        "id": "gT-68hoY_xPF"
      },
      "execution_count": 7,
      "outputs": []
    },
    {
      "cell_type": "code",
      "source": [
        "df['Total_Load'] = df['Log Date / Time'].apply(add_new)\n",
        "df.head()"
      ],
      "metadata": {
        "id": "7Atk2Ddn_1Cu",
        "colab": {
          "base_uri": "https://localhost:8080/",
          "height": 206
        },
        "outputId": "751a36dc-03a0-4f45-b933-58c34a6e2135"
      },
      "execution_count": 8,
      "outputs": [
        {
          "output_type": "execute_result",
          "data": {
            "text/plain": [
              "    Log Date / Time  NBCC FEEDER PILLER  LIBRARY BLDG  GIRLS HOSTEL  \\\n",
              "0  01-01-2020 00:00                 0.0           0.0           0.0   \n",
              "1  02-01-2020 00:00                 0.0           0.0           0.0   \n",
              "2  03-01-2020 00:00                 0.0           0.0           0.0   \n",
              "3  04-01-2020 00:00                 0.0           0.0           0.0   \n",
              "4  05-01-2020 00:00                 0.0           0.0           0.0   \n",
              "\n",
              "   MAIN BLDG  CIVIL BLDG  FEEDER PILLER 4  FEEDER PILLER 2  SAC BLDG  \\\n",
              "0        0.0         0.0              0.0          1041.41    181.26   \n",
              "1        0.0         0.0              0.0           985.79    194.38   \n",
              "2        0.0         0.0              0.0           996.35    200.86   \n",
              "3        0.0         0.0              0.0           920.51    171.73   \n",
              "4        0.0         0.0              0.0           887.94    133.01   \n",
              "\n",
              "   FEEDER PILLER 5  MAIN POWER  Total_Load  \n",
              "0           367.04        7.28     1596.99  \n",
              "1           355.01        8.31     1543.49  \n",
              "2           348.99        8.30     1554.50  \n",
              "3           344.93        6.64     1443.81  \n",
              "4           376.06        5.65     1402.66  "
            ],
            "text/html": [
              "\n",
              "  <div id=\"df-571a31dc-4e70-435d-b94e-7dd2904a8cbf\">\n",
              "    <div class=\"colab-df-container\">\n",
              "      <div>\n",
              "<style scoped>\n",
              "    .dataframe tbody tr th:only-of-type {\n",
              "        vertical-align: middle;\n",
              "    }\n",
              "\n",
              "    .dataframe tbody tr th {\n",
              "        vertical-align: top;\n",
              "    }\n",
              "\n",
              "    .dataframe thead th {\n",
              "        text-align: right;\n",
              "    }\n",
              "</style>\n",
              "<table border=\"1\" class=\"dataframe\">\n",
              "  <thead>\n",
              "    <tr style=\"text-align: right;\">\n",
              "      <th></th>\n",
              "      <th>Log Date / Time</th>\n",
              "      <th>NBCC FEEDER PILLER</th>\n",
              "      <th>LIBRARY BLDG</th>\n",
              "      <th>GIRLS HOSTEL</th>\n",
              "      <th>MAIN BLDG</th>\n",
              "      <th>CIVIL BLDG</th>\n",
              "      <th>FEEDER PILLER 4</th>\n",
              "      <th>FEEDER PILLER 2</th>\n",
              "      <th>SAC BLDG</th>\n",
              "      <th>FEEDER PILLER 5</th>\n",
              "      <th>MAIN POWER</th>\n",
              "      <th>Total_Load</th>\n",
              "    </tr>\n",
              "  </thead>\n",
              "  <tbody>\n",
              "    <tr>\n",
              "      <th>0</th>\n",
              "      <td>01-01-2020 00:00</td>\n",
              "      <td>0.0</td>\n",
              "      <td>0.0</td>\n",
              "      <td>0.0</td>\n",
              "      <td>0.0</td>\n",
              "      <td>0.0</td>\n",
              "      <td>0.0</td>\n",
              "      <td>1041.41</td>\n",
              "      <td>181.26</td>\n",
              "      <td>367.04</td>\n",
              "      <td>7.28</td>\n",
              "      <td>1596.99</td>\n",
              "    </tr>\n",
              "    <tr>\n",
              "      <th>1</th>\n",
              "      <td>02-01-2020 00:00</td>\n",
              "      <td>0.0</td>\n",
              "      <td>0.0</td>\n",
              "      <td>0.0</td>\n",
              "      <td>0.0</td>\n",
              "      <td>0.0</td>\n",
              "      <td>0.0</td>\n",
              "      <td>985.79</td>\n",
              "      <td>194.38</td>\n",
              "      <td>355.01</td>\n",
              "      <td>8.31</td>\n",
              "      <td>1543.49</td>\n",
              "    </tr>\n",
              "    <tr>\n",
              "      <th>2</th>\n",
              "      <td>03-01-2020 00:00</td>\n",
              "      <td>0.0</td>\n",
              "      <td>0.0</td>\n",
              "      <td>0.0</td>\n",
              "      <td>0.0</td>\n",
              "      <td>0.0</td>\n",
              "      <td>0.0</td>\n",
              "      <td>996.35</td>\n",
              "      <td>200.86</td>\n",
              "      <td>348.99</td>\n",
              "      <td>8.30</td>\n",
              "      <td>1554.50</td>\n",
              "    </tr>\n",
              "    <tr>\n",
              "      <th>3</th>\n",
              "      <td>04-01-2020 00:00</td>\n",
              "      <td>0.0</td>\n",
              "      <td>0.0</td>\n",
              "      <td>0.0</td>\n",
              "      <td>0.0</td>\n",
              "      <td>0.0</td>\n",
              "      <td>0.0</td>\n",
              "      <td>920.51</td>\n",
              "      <td>171.73</td>\n",
              "      <td>344.93</td>\n",
              "      <td>6.64</td>\n",
              "      <td>1443.81</td>\n",
              "    </tr>\n",
              "    <tr>\n",
              "      <th>4</th>\n",
              "      <td>05-01-2020 00:00</td>\n",
              "      <td>0.0</td>\n",
              "      <td>0.0</td>\n",
              "      <td>0.0</td>\n",
              "      <td>0.0</td>\n",
              "      <td>0.0</td>\n",
              "      <td>0.0</td>\n",
              "      <td>887.94</td>\n",
              "      <td>133.01</td>\n",
              "      <td>376.06</td>\n",
              "      <td>5.65</td>\n",
              "      <td>1402.66</td>\n",
              "    </tr>\n",
              "  </tbody>\n",
              "</table>\n",
              "</div>\n",
              "      <button class=\"colab-df-convert\" onclick=\"convertToInteractive('df-571a31dc-4e70-435d-b94e-7dd2904a8cbf')\"\n",
              "              title=\"Convert this dataframe to an interactive table.\"\n",
              "              style=\"display:none;\">\n",
              "        \n",
              "  <svg xmlns=\"http://www.w3.org/2000/svg\" height=\"24px\"viewBox=\"0 0 24 24\"\n",
              "       width=\"24px\">\n",
              "    <path d=\"M0 0h24v24H0V0z\" fill=\"none\"/>\n",
              "    <path d=\"M18.56 5.44l.94 2.06.94-2.06 2.06-.94-2.06-.94-.94-2.06-.94 2.06-2.06.94zm-11 1L8.5 8.5l.94-2.06 2.06-.94-2.06-.94L8.5 2.5l-.94 2.06-2.06.94zm10 10l.94 2.06.94-2.06 2.06-.94-2.06-.94-.94-2.06-.94 2.06-2.06.94z\"/><path d=\"M17.41 7.96l-1.37-1.37c-.4-.4-.92-.59-1.43-.59-.52 0-1.04.2-1.43.59L10.3 9.45l-7.72 7.72c-.78.78-.78 2.05 0 2.83L4 21.41c.39.39.9.59 1.41.59.51 0 1.02-.2 1.41-.59l7.78-7.78 2.81-2.81c.8-.78.8-2.07 0-2.86zM5.41 20L4 18.59l7.72-7.72 1.47 1.35L5.41 20z\"/>\n",
              "  </svg>\n",
              "      </button>\n",
              "      \n",
              "  <style>\n",
              "    .colab-df-container {\n",
              "      display:flex;\n",
              "      flex-wrap:wrap;\n",
              "      gap: 12px;\n",
              "    }\n",
              "\n",
              "    .colab-df-convert {\n",
              "      background-color: #E8F0FE;\n",
              "      border: none;\n",
              "      border-radius: 50%;\n",
              "      cursor: pointer;\n",
              "      display: none;\n",
              "      fill: #1967D2;\n",
              "      height: 32px;\n",
              "      padding: 0 0 0 0;\n",
              "      width: 32px;\n",
              "    }\n",
              "\n",
              "    .colab-df-convert:hover {\n",
              "      background-color: #E2EBFA;\n",
              "      box-shadow: 0px 1px 2px rgba(60, 64, 67, 0.3), 0px 1px 3px 1px rgba(60, 64, 67, 0.15);\n",
              "      fill: #174EA6;\n",
              "    }\n",
              "\n",
              "    [theme=dark] .colab-df-convert {\n",
              "      background-color: #3B4455;\n",
              "      fill: #D2E3FC;\n",
              "    }\n",
              "\n",
              "    [theme=dark] .colab-df-convert:hover {\n",
              "      background-color: #434B5C;\n",
              "      box-shadow: 0px 1px 3px 1px rgba(0, 0, 0, 0.15);\n",
              "      filter: drop-shadow(0px 1px 2px rgba(0, 0, 0, 0.3));\n",
              "      fill: #FFFFFF;\n",
              "    }\n",
              "  </style>\n",
              "\n",
              "      <script>\n",
              "        const buttonEl =\n",
              "          document.querySelector('#df-571a31dc-4e70-435d-b94e-7dd2904a8cbf button.colab-df-convert');\n",
              "        buttonEl.style.display =\n",
              "          google.colab.kernel.accessAllowed ? 'block' : 'none';\n",
              "\n",
              "        async function convertToInteractive(key) {\n",
              "          const element = document.querySelector('#df-571a31dc-4e70-435d-b94e-7dd2904a8cbf');\n",
              "          const dataTable =\n",
              "            await google.colab.kernel.invokeFunction('convertToInteractive',\n",
              "                                                     [key], {});\n",
              "          if (!dataTable) return;\n",
              "\n",
              "          const docLinkHtml = 'Like what you see? Visit the ' +\n",
              "            '<a target=\"_blank\" href=https://colab.research.google.com/notebooks/data_table.ipynb>data table notebook</a>'\n",
              "            + ' to learn more about interactive tables.';\n",
              "          element.innerHTML = '';\n",
              "          dataTable['output_type'] = 'display_data';\n",
              "          await google.colab.output.renderOutput(dataTable, element);\n",
              "          const docLink = document.createElement('div');\n",
              "          docLink.innerHTML = docLinkHtml;\n",
              "          element.appendChild(docLink);\n",
              "        }\n",
              "      </script>\n",
              "    </div>\n",
              "  </div>\n",
              "  "
            ]
          },
          "metadata": {},
          "execution_count": 8
        }
      ]
    },
    {
      "cell_type": "code",
      "source": [
        "df = df[df['Total_Load'] > 1000]\n",
        "df = df[df['Total_Load'] < 2000]\n",
        "df"
      ],
      "metadata": {
        "id": "vhRQWCqV_prL",
        "colab": {
          "base_uri": "https://localhost:8080/",
          "height": 423
        },
        "outputId": "c9d30fa5-9bc1-4e76-dfc8-86e0bc85afb7"
      },
      "execution_count": 9,
      "outputs": [
        {
          "output_type": "execute_result",
          "data": {
            "text/plain": [
              "      Log Date / Time  NBCC FEEDER PILLER  LIBRARY BLDG  GIRLS HOSTEL  \\\n",
              "0    01-01-2020 00:00                 0.0           0.0           0.0   \n",
              "1    02-01-2020 00:00                 0.0           0.0           0.0   \n",
              "2    03-01-2020 00:00                 0.0           0.0           0.0   \n",
              "3    04-01-2020 00:00                 0.0           0.0           0.0   \n",
              "4    05-01-2020 00:00                 0.0           0.0           0.0   \n",
              "..                ...                 ...           ...           ...   \n",
              "361  27-12-2020 00:00                 0.0           0.0           0.0   \n",
              "362  28-12-2020 00:00                 0.0           0.0           0.0   \n",
              "363  29-12-2020 00:00                 0.0           0.0           0.0   \n",
              "364  30-12-2020 00:00                 0.0           0.0           0.0   \n",
              "365  31-12-2020 00:00                 0.0           0.0           0.0   \n",
              "\n",
              "     MAIN BLDG  CIVIL BLDG  FEEDER PILLER 4  FEEDER PILLER 2  SAC BLDG  \\\n",
              "0          0.0         0.0              0.0          1041.41    181.26   \n",
              "1          0.0         0.0              0.0           985.79    194.38   \n",
              "2          0.0         0.0              0.0           996.35    200.86   \n",
              "3          0.0         0.0              0.0           920.51    171.73   \n",
              "4          0.0         0.0              0.0           887.94    133.01   \n",
              "..         ...         ...              ...              ...       ...   \n",
              "361        0.0         0.0              0.0           882.75     61.39   \n",
              "362        0.0         0.0              0.0           913.34     70.77   \n",
              "363        0.0         0.0              0.0           929.22     80.80   \n",
              "364        0.0         0.0              0.0           895.49     74.69   \n",
              "365        0.0         0.0              0.0           954.24     76.80   \n",
              "\n",
              "     FEEDER PILLER 5  MAIN POWER  Total_Load  \n",
              "0             367.04        7.28     1596.99  \n",
              "1             355.01        8.31     1543.49  \n",
              "2             348.99        8.30     1554.50  \n",
              "3             344.93        6.64     1443.81  \n",
              "4             376.06        5.65     1402.66  \n",
              "..               ...         ...         ...  \n",
              "361           345.09        4.88     1294.11  \n",
              "362           326.85        7.16     1318.12  \n",
              "363           391.17        6.60     1407.79  \n",
              "364           394.14        6.47     1370.79  \n",
              "365           390.40        6.71     1428.15  \n",
              "\n",
              "[288 rows x 12 columns]"
            ],
            "text/html": [
              "\n",
              "  <div id=\"df-614a192f-89ff-4429-b63d-496ad5733d30\">\n",
              "    <div class=\"colab-df-container\">\n",
              "      <div>\n",
              "<style scoped>\n",
              "    .dataframe tbody tr th:only-of-type {\n",
              "        vertical-align: middle;\n",
              "    }\n",
              "\n",
              "    .dataframe tbody tr th {\n",
              "        vertical-align: top;\n",
              "    }\n",
              "\n",
              "    .dataframe thead th {\n",
              "        text-align: right;\n",
              "    }\n",
              "</style>\n",
              "<table border=\"1\" class=\"dataframe\">\n",
              "  <thead>\n",
              "    <tr style=\"text-align: right;\">\n",
              "      <th></th>\n",
              "      <th>Log Date / Time</th>\n",
              "      <th>NBCC FEEDER PILLER</th>\n",
              "      <th>LIBRARY BLDG</th>\n",
              "      <th>GIRLS HOSTEL</th>\n",
              "      <th>MAIN BLDG</th>\n",
              "      <th>CIVIL BLDG</th>\n",
              "      <th>FEEDER PILLER 4</th>\n",
              "      <th>FEEDER PILLER 2</th>\n",
              "      <th>SAC BLDG</th>\n",
              "      <th>FEEDER PILLER 5</th>\n",
              "      <th>MAIN POWER</th>\n",
              "      <th>Total_Load</th>\n",
              "    </tr>\n",
              "  </thead>\n",
              "  <tbody>\n",
              "    <tr>\n",
              "      <th>0</th>\n",
              "      <td>01-01-2020 00:00</td>\n",
              "      <td>0.0</td>\n",
              "      <td>0.0</td>\n",
              "      <td>0.0</td>\n",
              "      <td>0.0</td>\n",
              "      <td>0.0</td>\n",
              "      <td>0.0</td>\n",
              "      <td>1041.41</td>\n",
              "      <td>181.26</td>\n",
              "      <td>367.04</td>\n",
              "      <td>7.28</td>\n",
              "      <td>1596.99</td>\n",
              "    </tr>\n",
              "    <tr>\n",
              "      <th>1</th>\n",
              "      <td>02-01-2020 00:00</td>\n",
              "      <td>0.0</td>\n",
              "      <td>0.0</td>\n",
              "      <td>0.0</td>\n",
              "      <td>0.0</td>\n",
              "      <td>0.0</td>\n",
              "      <td>0.0</td>\n",
              "      <td>985.79</td>\n",
              "      <td>194.38</td>\n",
              "      <td>355.01</td>\n",
              "      <td>8.31</td>\n",
              "      <td>1543.49</td>\n",
              "    </tr>\n",
              "    <tr>\n",
              "      <th>2</th>\n",
              "      <td>03-01-2020 00:00</td>\n",
              "      <td>0.0</td>\n",
              "      <td>0.0</td>\n",
              "      <td>0.0</td>\n",
              "      <td>0.0</td>\n",
              "      <td>0.0</td>\n",
              "      <td>0.0</td>\n",
              "      <td>996.35</td>\n",
              "      <td>200.86</td>\n",
              "      <td>348.99</td>\n",
              "      <td>8.30</td>\n",
              "      <td>1554.50</td>\n",
              "    </tr>\n",
              "    <tr>\n",
              "      <th>3</th>\n",
              "      <td>04-01-2020 00:00</td>\n",
              "      <td>0.0</td>\n",
              "      <td>0.0</td>\n",
              "      <td>0.0</td>\n",
              "      <td>0.0</td>\n",
              "      <td>0.0</td>\n",
              "      <td>0.0</td>\n",
              "      <td>920.51</td>\n",
              "      <td>171.73</td>\n",
              "      <td>344.93</td>\n",
              "      <td>6.64</td>\n",
              "      <td>1443.81</td>\n",
              "    </tr>\n",
              "    <tr>\n",
              "      <th>4</th>\n",
              "      <td>05-01-2020 00:00</td>\n",
              "      <td>0.0</td>\n",
              "      <td>0.0</td>\n",
              "      <td>0.0</td>\n",
              "      <td>0.0</td>\n",
              "      <td>0.0</td>\n",
              "      <td>0.0</td>\n",
              "      <td>887.94</td>\n",
              "      <td>133.01</td>\n",
              "      <td>376.06</td>\n",
              "      <td>5.65</td>\n",
              "      <td>1402.66</td>\n",
              "    </tr>\n",
              "    <tr>\n",
              "      <th>...</th>\n",
              "      <td>...</td>\n",
              "      <td>...</td>\n",
              "      <td>...</td>\n",
              "      <td>...</td>\n",
              "      <td>...</td>\n",
              "      <td>...</td>\n",
              "      <td>...</td>\n",
              "      <td>...</td>\n",
              "      <td>...</td>\n",
              "      <td>...</td>\n",
              "      <td>...</td>\n",
              "      <td>...</td>\n",
              "    </tr>\n",
              "    <tr>\n",
              "      <th>361</th>\n",
              "      <td>27-12-2020 00:00</td>\n",
              "      <td>0.0</td>\n",
              "      <td>0.0</td>\n",
              "      <td>0.0</td>\n",
              "      <td>0.0</td>\n",
              "      <td>0.0</td>\n",
              "      <td>0.0</td>\n",
              "      <td>882.75</td>\n",
              "      <td>61.39</td>\n",
              "      <td>345.09</td>\n",
              "      <td>4.88</td>\n",
              "      <td>1294.11</td>\n",
              "    </tr>\n",
              "    <tr>\n",
              "      <th>362</th>\n",
              "      <td>28-12-2020 00:00</td>\n",
              "      <td>0.0</td>\n",
              "      <td>0.0</td>\n",
              "      <td>0.0</td>\n",
              "      <td>0.0</td>\n",
              "      <td>0.0</td>\n",
              "      <td>0.0</td>\n",
              "      <td>913.34</td>\n",
              "      <td>70.77</td>\n",
              "      <td>326.85</td>\n",
              "      <td>7.16</td>\n",
              "      <td>1318.12</td>\n",
              "    </tr>\n",
              "    <tr>\n",
              "      <th>363</th>\n",
              "      <td>29-12-2020 00:00</td>\n",
              "      <td>0.0</td>\n",
              "      <td>0.0</td>\n",
              "      <td>0.0</td>\n",
              "      <td>0.0</td>\n",
              "      <td>0.0</td>\n",
              "      <td>0.0</td>\n",
              "      <td>929.22</td>\n",
              "      <td>80.80</td>\n",
              "      <td>391.17</td>\n",
              "      <td>6.60</td>\n",
              "      <td>1407.79</td>\n",
              "    </tr>\n",
              "    <tr>\n",
              "      <th>364</th>\n",
              "      <td>30-12-2020 00:00</td>\n",
              "      <td>0.0</td>\n",
              "      <td>0.0</td>\n",
              "      <td>0.0</td>\n",
              "      <td>0.0</td>\n",
              "      <td>0.0</td>\n",
              "      <td>0.0</td>\n",
              "      <td>895.49</td>\n",
              "      <td>74.69</td>\n",
              "      <td>394.14</td>\n",
              "      <td>6.47</td>\n",
              "      <td>1370.79</td>\n",
              "    </tr>\n",
              "    <tr>\n",
              "      <th>365</th>\n",
              "      <td>31-12-2020 00:00</td>\n",
              "      <td>0.0</td>\n",
              "      <td>0.0</td>\n",
              "      <td>0.0</td>\n",
              "      <td>0.0</td>\n",
              "      <td>0.0</td>\n",
              "      <td>0.0</td>\n",
              "      <td>954.24</td>\n",
              "      <td>76.80</td>\n",
              "      <td>390.40</td>\n",
              "      <td>6.71</td>\n",
              "      <td>1428.15</td>\n",
              "    </tr>\n",
              "  </tbody>\n",
              "</table>\n",
              "<p>288 rows × 12 columns</p>\n",
              "</div>\n",
              "      <button class=\"colab-df-convert\" onclick=\"convertToInteractive('df-614a192f-89ff-4429-b63d-496ad5733d30')\"\n",
              "              title=\"Convert this dataframe to an interactive table.\"\n",
              "              style=\"display:none;\">\n",
              "        \n",
              "  <svg xmlns=\"http://www.w3.org/2000/svg\" height=\"24px\"viewBox=\"0 0 24 24\"\n",
              "       width=\"24px\">\n",
              "    <path d=\"M0 0h24v24H0V0z\" fill=\"none\"/>\n",
              "    <path d=\"M18.56 5.44l.94 2.06.94-2.06 2.06-.94-2.06-.94-.94-2.06-.94 2.06-2.06.94zm-11 1L8.5 8.5l.94-2.06 2.06-.94-2.06-.94L8.5 2.5l-.94 2.06-2.06.94zm10 10l.94 2.06.94-2.06 2.06-.94-2.06-.94-.94-2.06-.94 2.06-2.06.94z\"/><path d=\"M17.41 7.96l-1.37-1.37c-.4-.4-.92-.59-1.43-.59-.52 0-1.04.2-1.43.59L10.3 9.45l-7.72 7.72c-.78.78-.78 2.05 0 2.83L4 21.41c.39.39.9.59 1.41.59.51 0 1.02-.2 1.41-.59l7.78-7.78 2.81-2.81c.8-.78.8-2.07 0-2.86zM5.41 20L4 18.59l7.72-7.72 1.47 1.35L5.41 20z\"/>\n",
              "  </svg>\n",
              "      </button>\n",
              "      \n",
              "  <style>\n",
              "    .colab-df-container {\n",
              "      display:flex;\n",
              "      flex-wrap:wrap;\n",
              "      gap: 12px;\n",
              "    }\n",
              "\n",
              "    .colab-df-convert {\n",
              "      background-color: #E8F0FE;\n",
              "      border: none;\n",
              "      border-radius: 50%;\n",
              "      cursor: pointer;\n",
              "      display: none;\n",
              "      fill: #1967D2;\n",
              "      height: 32px;\n",
              "      padding: 0 0 0 0;\n",
              "      width: 32px;\n",
              "    }\n",
              "\n",
              "    .colab-df-convert:hover {\n",
              "      background-color: #E2EBFA;\n",
              "      box-shadow: 0px 1px 2px rgba(60, 64, 67, 0.3), 0px 1px 3px 1px rgba(60, 64, 67, 0.15);\n",
              "      fill: #174EA6;\n",
              "    }\n",
              "\n",
              "    [theme=dark] .colab-df-convert {\n",
              "      background-color: #3B4455;\n",
              "      fill: #D2E3FC;\n",
              "    }\n",
              "\n",
              "    [theme=dark] .colab-df-convert:hover {\n",
              "      background-color: #434B5C;\n",
              "      box-shadow: 0px 1px 3px 1px rgba(0, 0, 0, 0.15);\n",
              "      filter: drop-shadow(0px 1px 2px rgba(0, 0, 0, 0.3));\n",
              "      fill: #FFFFFF;\n",
              "    }\n",
              "  </style>\n",
              "\n",
              "      <script>\n",
              "        const buttonEl =\n",
              "          document.querySelector('#df-614a192f-89ff-4429-b63d-496ad5733d30 button.colab-df-convert');\n",
              "        buttonEl.style.display =\n",
              "          google.colab.kernel.accessAllowed ? 'block' : 'none';\n",
              "\n",
              "        async function convertToInteractive(key) {\n",
              "          const element = document.querySelector('#df-614a192f-89ff-4429-b63d-496ad5733d30');\n",
              "          const dataTable =\n",
              "            await google.colab.kernel.invokeFunction('convertToInteractive',\n",
              "                                                     [key], {});\n",
              "          if (!dataTable) return;\n",
              "\n",
              "          const docLinkHtml = 'Like what you see? Visit the ' +\n",
              "            '<a target=\"_blank\" href=https://colab.research.google.com/notebooks/data_table.ipynb>data table notebook</a>'\n",
              "            + ' to learn more about interactive tables.';\n",
              "          element.innerHTML = '';\n",
              "          dataTable['output_type'] = 'display_data';\n",
              "          await google.colab.output.renderOutput(dataTable, element);\n",
              "          const docLink = document.createElement('div');\n",
              "          docLink.innerHTML = docLinkHtml;\n",
              "          element.appendChild(docLink);\n",
              "        }\n",
              "      </script>\n",
              "    </div>\n",
              "  </div>\n",
              "  "
            ]
          },
          "metadata": {},
          "execution_count": 9
        }
      ]
    },
    {
      "cell_type": "markdown",
      "source": [
        "#Plotting Data"
      ],
      "metadata": {
        "id": "kipqHFaj-_RM"
      }
    },
    {
      "cell_type": "code",
      "source": [
        "df.plot()"
      ],
      "metadata": {
        "id": "wGUXcVmC_32l",
        "colab": {
          "base_uri": "https://localhost:8080/",
          "height": 282
        },
        "outputId": "bfdbd183-d492-4733-accf-3d988b107c69"
      },
      "execution_count": 10,
      "outputs": [
        {
          "output_type": "execute_result",
          "data": {
            "text/plain": [
              "<matplotlib.axes._subplots.AxesSubplot at 0x7f5f289ddcd0>"
            ]
          },
          "metadata": {},
          "execution_count": 10
        },
        {
          "output_type": "display_data",
          "data": {
            "text/plain": [
              "<Figure size 432x288 with 1 Axes>"
            ],
            "image/png": "[encoded data removed]"
          },
          "metadata": {
            "needs_background": "light"
          }
        }
      ]
    },
    {
      "cell_type": "markdown",
      "source": [
        "#Accessing the Important Part of Data"
      ],
      "metadata": {
        "id": "5vAfQJvO_XHe"
      }
    },
    {
      "cell_type": "code",
      "source": [
        "df2 = df.iloc[:][['Log Date / Time','Total_Load']]"
      ],
      "metadata": {
        "id": "phLRsJYv__7R"
      },
      "execution_count": 11,
      "outputs": []
    },
    {
      "cell_type": "code",
      "source": [
        "x = np.array(df2['Total_Load'])\n",
        "print(x)"
      ],
      "metadata": {
        "id": "-PIDpYV6AEJi",
        "colab": {
          "base_uri": "https://localhost:8080/"
        },
        "outputId": "53cbd780-2ee4-4d44-c81f-b9dc16391835"
      },
      "execution_count": 12,
      "outputs": [
        {
          "output_type": "stream",
          "name": "stdout",
          "text": [
            "[1596.99 1543.49 1554.5  1443.81 1402.66 1591.45 1557.29 1596.69 1784.1\n",
            " 1951.24 1770.16 1656.75 1603.73 1644.14 1536.45 1575.19 1441.82 1711.31\n",
            " 1536.72 1568.23 1520.52 1457.91 1557.59 1530.99 1559.82 1694.64 1685.27\n",
            " 1648.17 1643.73 1715.69 1719.68 1639.89 1603.35 1590.14 1874.87 1586.6\n",
            " 1539.53 1481.5  1412.26 1579.14 1715.   1629.03 1530.81 1807.69 1628.56\n",
            " 1630.61 1737.62 1768.91 1847.45 1765.75 1695.67 1612.76 1587.29 1634.34\n",
            " 1608.22 1761.79 1708.87 1819.12 1733.42 1605.52 1811.78 1882.43 1986.89\n",
            " 1645.92 1585.95 1512.24 1446.66 1565.17 1663.08 1698.05 1630.54 1519.33\n",
            " 1598.81 1533.95 1553.64 1542.08 1496.74 1405.53 1415.66 1054.53 1356.65\n",
            " 1374.49 1420.54 1398.04 1402.35 1435.9  1443.09 1464.33 1436.83 1434.17\n",
            " 1435.49 1454.14 1461.8  1453.74 1505.13 1483.37 1477.15 1498.9  1533.44\n",
            " 1565.79 1507.14 1543.91 1563.31 1579.21 1619.06 1564.11 1524.02 1484.1\n",
            " 1499.48 1493.35 1486.32 1471.59 1505.27 1490.66 1445.67 1508.17 1487.53\n",
            " 1446.3  1469.24 1534.25 1497.21 1525.3  1495.42 1500.63 1490.25 1521.61\n",
            " 1599.46 1640.71 1635.3  1681.4  1574.55 1710.56 1738.12 1646.79 1493.36\n",
            " 1581.97 1570.77 1688.1  1733.48 1912.81 1717.39 1494.2  1490.95 1238.43\n",
            " 1136.3  1966.6  1898.54 1546.73 1422.2  1608.55 1603.02 1651.65 1448.94\n",
            " 1511.45 1429.17 1449.86 1571.87 1696.4  1625.08 1991.33 1534.26 1438.13\n",
            " 1991.1  1922.01 1787.6  1536.42 1509.84 1390.79 1461.74 1519.52 1560.44\n",
            " 1682.42 1672.12 1509.96 1364.53 1452.79 1647.37 1752.25 1631.85 1598.77\n",
            " 1536.03 1558.24 1961.76 1617.55 1763.56 1544.81 1596.64 1470.4  1504.02\n",
            " 1888.66 1985.35 1642.5  1451.82 1789.94 1624.19 1401.17 1324.86 1281.81\n",
            " 1661.78 1598.15 1595.58 1525.94 1551.5  1459.95 1442.74 1677.11 1773.65\n",
            " 1740.19 1028.33 1354.19 1891.21 1796.34 1313.44 1333.9  1770.25 1576.83\n",
            " 1424.31 1645.48 1587.42 1656.59 1554.66 1442.68 1339.32 1697.15 1611.37\n",
            " 1584.13 1520.03 1368.68 1325.   1354.66 1501.14 1296.97 1429.52 1497.57\n",
            " 1453.02 1323.19 1345.42 1443.56 1393.58 1420.26 1428.97 1408.69 1273.55\n",
            " 1294.2  1377.89 1408.66 1427.49 1382.41 1407.5  1341.55 1263.31 1460.86\n",
            " 1518.74 1563.24 1589.48 1527.19 1435.3  1396.49 1395.42 1460.16 1488.25\n",
            " 1435.79 1452.21 1306.1  1275.08 1415.14 1485.69 1509.24 1586.12 1239.61\n",
            " 1580.9  1586.19 1637.87 1405.08 1389.62 1422.16 1477.37 1554.58 1503.89\n",
            " 1530.4  1461.4  1338.57 1244.13 1294.11 1318.12 1407.79 1370.79 1428.15]\n"
          ]
        }
      ]
    },
    {
      "cell_type": "code",
      "source": [
        "df2['Total_Load'].mean()"
      ],
      "metadata": {
        "id": "P-RZosHPAHu3",
        "colab": {
          "base_uri": "https://localhost:8080/"
        },
        "outputId": "2af3b77f-6290-4317-bc9f-dc71d4698fe8"
      },
      "execution_count": 13,
      "outputs": [
        {
          "output_type": "execute_result",
          "data": {
            "text/plain": [
              "1545.8311458333333"
            ]
          },
          "metadata": {},
          "execution_count": 13
        }
      ]
    },
    {
      "cell_type": "code",
      "source": [
        "df2.plot()\n",
        "pyplot.title(\"Energy Load Over the Years\")"
      ],
      "metadata": {
        "id": "4fdDVNviAMBv",
        "colab": {
          "base_uri": "https://localhost:8080/",
          "height": 298
        },
        "outputId": "5cd4eca7-f4b5-498b-d5c3-183559ccb141"
      },
      "execution_count": 14,
      "outputs": [
        {
          "output_type": "execute_result",
          "data": {
            "text/plain": [
              "Text(0.5, 1.0, 'Energy Load Over the Years')"
            ]
          },
          "metadata": {},
          "execution_count": 14
        },
        {
          "output_type": "display_data",
          "data": {
            "text/plain": [
              "<Figure size 432x288 with 1 Axes>"
            ],
            "image/png": "[encoded data removed]"
          },
          "metadata": {
            "needs_background": "light"
          }
        }
      ]
    },
    {
      "cell_type": "markdown",
      "source": [
        "#Check for Stationarity"
      ],
      "metadata": {
        "id": "RdZ5btTA_jIi"
      }
    },
    {
      "cell_type": "code",
      "source": [
        "from statsmodels.tsa.stattools import adfuller\n",
        "\n",
        "dftest = adfuller(df2['Total_Load'], autolag = 'AIC')\n",
        "\n",
        "print(\"1. ADF : \",dftest[0])\n",
        "print(\"2. P-value : \",dftest[1])\n",
        "print(\"3. No. of lags : \",dftest[2])\n",
        "print(\"4. No. of observation used for ADF regression and critical value calculation : \",dftest[3])\n",
        "print(\"5. Critical Values : \")\n",
        "for key, val in dftest[4].items():\n",
        "  print(\"\\t\",key,\":\",val)"
      ],
      "metadata": {
        "id": "OlMkX0qpAPaX",
        "colab": {
          "base_uri": "https://localhost:8080/"
        },
        "outputId": "d6dd28a7-cb66-4515-c76e-dd9e2937c9b8"
      },
      "execution_count": 15,
      "outputs": [
        {
          "output_type": "stream",
          "name": "stdout",
          "text": [
            "1. ADF :  -2.0362377371917355\n",
            "2. P-value :  0.27091353345993424\n",
            "3. No. of lags :  15\n",
            "4. No. of observation used for ADF regression and critical value calculation :  272\n",
            "5. Critical Values : \n",
            "\t 1% : -3.4546223782586534\n",
            "\t 5% : -2.8722253212300277\n",
            "\t 10% : -2.5724638500216264\n"
          ]
        }
      ]
    },
    {
      "cell_type": "markdown",
      "source": [
        "#Plotting ACF and PACF to get Correlations"
      ],
      "metadata": {
        "id": "5kLjHYrZ_3Oa"
      }
    },
    {
      "cell_type": "code",
      "source": [
        "from statsmodels.graphics.tsaplots import plot_pacf,plot_acf\n",
        "\n",
        "pacf = plot_pacf(df2['Total_Load'],lags = 25)\n",
        "acf = plot_acf(df2['Total_Load'],lags = 25)"
      ],
      "metadata": {
        "id": "nagw7K9xASwY",
        "colab": {
          "base_uri": "https://localhost:8080/",
          "height": 600
        },
        "outputId": "56037c0a-9e23-4554-fd84-1e513c114c00"
      },
      "execution_count": 16,
      "outputs": [
        {
          "output_type": "stream",
          "name": "stderr",
          "text": [
            "/usr/local/lib/python3.8/dist-packages/statsmodels/graphics/tsaplots.py:348: FutureWarning: The default method 'yw' can produce PACF values outside of the [-1,1] interval. After 0.13, the default will change tounadjusted Yule-Walker ('ywm'). You can use this method now by setting method='ywm'.\n",
            "  warnings.warn(\n"
          ]
        },
        {
          "output_type": "display_data",
          "data": {
            "text/plain": [
              "<Figure size 432x288 with 1 Axes>"
            ],
            "image/png": "[encoded data removed]"
          },
          "metadata": {
            "needs_background": "light"
          }
        },
        {
          "output_type": "display_data",
          "data": {
            "text/plain": [
              "<Figure size 432x288 with 1 Axes>"
            ],
            "image/png": "[encoded data removed]"
          },
          "metadata": {
            "needs_background": "light"
          }
        }
      ]
    },
    {
      "cell_type": "markdown",
      "source": [
        "#Splitting Data into Train and Test"
      ],
      "metadata": {
        "id": "6nL2_DdOAEG7"
      }
    },
    {
      "cell_type": "code",
      "source": [
        "xtrain = x[:len(x)-30]\n",
        "xtest = x[len(x)-30:]"
      ],
      "metadata": {
        "id": "eckWtv6EAVLx"
      },
      "execution_count": 17,
      "outputs": []
    },
    {
      "cell_type": "markdown",
      "source": [
        "#Importing Library to Ignore Harmless Warnings"
      ],
      "metadata": {
        "id": "sWPh3BWBANVB"
      }
    },
    {
      "cell_type": "code",
      "source": [
        "import warnings\n",
        "warnings.filterwarnings(\"ignore\")"
      ],
      "metadata": {
        "id": "ZsF1VmGOAY9j"
      },
      "execution_count": 18,
      "outputs": []
    },
    {
      "cell_type": "markdown",
      "source": [
        "#ARMA Model "
      ],
      "metadata": {
        "id": "ylSlLqP8sy4Z"
      }
    },
    {
      "cell_type": "markdown",
      "source": [
        "#Training ARMA Model on Training Set"
      ],
      "metadata": {
        "id": "7MFewqy_tGnc"
      }
    },
    {
      "cell_type": "code",
      "source": [
        "model = AutoReg(xtrain,lags = 10).fit()"
      ],
      "metadata": {
        "id": "hl56r9uOtUxx"
      },
      "execution_count": 19,
      "outputs": []
    },
    {
      "cell_type": "code",
      "source": [
        "print(model.summary())"
      ],
      "metadata": {
        "id": "rNq4bpUTtdF9",
        "colab": {
          "base_uri": "https://localhost:8080/"
        },
        "outputId": "042501d4-292e-4ce5-f4f6-57301d33958a"
      },
      "execution_count": 20,
      "outputs": [
        {
          "output_type": "stream",
          "name": "stdout",
          "text": [
            "                            AutoReg Model Results                             \n",
            "==============================================================================\n",
            "Dep. Variable:                      y   No. Observations:                  258\n",
            "Model:                    AutoReg(10)   Log Likelihood               -1557.962\n",
            "Method:               Conditional MLE   S.D. of innovations            129.434\n",
            "Date:                Wed, 15 Feb 2023   AIC                           3139.925\n",
            "Time:                        14:47:16   BIC                           3182.086\n",
            "Sample:                            10   HQIC                          3156.897\n",
            "                                  258                                         \n",
            "==============================================================================\n",
            "                 coef    std err          z      P>|z|      [0.025      0.975]\n",
            "------------------------------------------------------------------------------\n",
            "const        455.0490    138.687      3.281      0.001     183.228     726.870\n",
            "y.L1           0.5084      0.063      8.116      0.000       0.386       0.631\n",
            "y.L2          -0.2020      0.070     -2.874      0.004      -0.340      -0.064\n",
            "y.L3           0.0771      0.071      1.080      0.280      -0.063       0.217\n",
            "y.L4           0.1407      0.071      1.975      0.048       0.001       0.280\n",
            "y.L5           0.0292      0.072      0.408      0.683      -0.111       0.170\n",
            "y.L6           0.0512      0.071      0.716      0.474      -0.089       0.191\n",
            "y.L7           0.1225      0.071      1.726      0.084      -0.017       0.262\n",
            "y.L8          -0.0026      0.072     -0.036      0.971      -0.143       0.138\n",
            "y.L9           0.0721      0.070      1.025      0.305      -0.066       0.210\n",
            "y.L10         -0.0901      0.063     -1.439      0.150      -0.213       0.033\n",
            "                                    Roots                                     \n",
            "==============================================================================\n",
            "                   Real          Imaginary           Modulus         Frequency\n",
            "------------------------------------------------------------------------------\n",
            "AR.1            -1.1828           -0.4482j            1.2649           -0.4423\n",
            "AR.2            -1.1828           +0.4482j            1.2649            0.4423\n",
            "AR.3            -0.6173           -1.1900j            1.3406           -0.3262\n",
            "AR.4            -0.6173           +1.1900j            1.3406            0.3262\n",
            "AR.5             0.0843           -1.2167j            1.2196           -0.2390\n",
            "AR.6             0.0843           +1.2167j            1.2196            0.2390\n",
            "AR.7             0.7556           -0.9351j            1.2022           -0.1418\n",
            "AR.8             0.7556           +0.9351j            1.2022            0.1418\n",
            "AR.9             1.1264           -0.0000j            1.1264           -0.0000\n",
            "AR.10            1.5941           -0.0000j            1.5941           -0.0000\n",
            "------------------------------------------------------------------------------\n"
          ]
        }
      ]
    },
    {
      "cell_type": "code",
      "source": [
        "print(len(xtrain))"
      ],
      "metadata": {
        "id": "AL72UwKdtgxt",
        "colab": {
          "base_uri": "https://localhost:8080/"
        },
        "outputId": "b5f6b8cb-d08f-41d7-ac53-2bac031047fb"
      },
      "execution_count": 21,
      "outputs": [
        {
          "output_type": "stream",
          "name": "stdout",
          "text": [
            "258\n"
          ]
        }
      ]
    },
    {
      "cell_type": "markdown",
      "source": [
        "#Testing ARMA Model"
      ],
      "metadata": {
        "id": "Lu_kNtMot2hW"
      }
    },
    {
      "cell_type": "code",
      "source": [
        "#Predicting the Future value\n",
        "\n",
        "pred = model.predict(start = len(xtrain), end =len(x)-1, dynamic = False)\n",
        "print(pred)"
      ],
      "metadata": {
        "id": "YeMKoc0Nt01e",
        "colab": {
          "base_uri": "https://localhost:8080/"
        },
        "outputId": "c2cbc206-bca0-4144-9918-8de077673546"
      },
      "execution_count": 22,
      "outputs": [
        {
          "output_type": "stream",
          "name": "stdout",
          "text": [
            "[1485.67765472 1532.93384033 1549.13392172 1532.84328884 1521.93639498\n",
            " 1514.98472224 1509.25237121 1517.52110376 1532.2059131  1547.21518588\n",
            " 1544.28178138 1537.14768263 1533.82846541 1536.31725318 1539.99022316\n",
            " 1542.76883606 1545.7194405  1546.74454024 1546.19584884 1544.61135573\n",
            " 1544.74387281 1546.3088471  1547.86865859 1548.56415204 1548.65496779\n",
            " 1548.71637851 1548.67022454 1548.75339424 1549.04937387 1549.56577765]\n"
          ]
        }
      ]
    },
    {
      "cell_type": "code",
      "source": [
        "#Plotting the Predicted and actual values\n",
        "\n",
        "pyplot.plot(pred, label=\"Predicted Value\")\n",
        "pyplot.plot(xtest, label=\"Actual Value\")\n",
        "pyplot.xlabel(\"Date\")\n",
        "pyplot.ylabel(\"Load\")\n",
        "pyplot.title(\"Energy Load Comparison between Actual and Predicted Value\")\n",
        "pyplot.legend(loc=\"best\")"
      ],
      "metadata": {
        "id": "Iv9NlF8Mt___",
        "colab": {
          "base_uri": "https://localhost:8080/",
          "height": 312
        },
        "outputId": "946ac976-f296-4e73-91a7-b8ebb374c580"
      },
      "execution_count": 23,
      "outputs": [
        {
          "output_type": "execute_result",
          "data": {
            "text/plain": [
              "<matplotlib.legend.Legend at 0x7f5f2895ac10>"
            ]
          },
          "metadata": {},
          "execution_count": 23
        },
        {
          "output_type": "display_data",
          "data": {
            "text/plain": [
              "<Figure size 432x288 with 1 Axes>"
            ],
            "image/png": "[encoded data removed]"
          },
          "metadata": {
            "needs_background": "light"
          }
        }
      ]
    },
    {
      "cell_type": "markdown",
      "source": [
        "#Calculating Error in ARMA Model"
      ],
      "metadata": {
        "id": "I5yxnPEQuIWf"
      }
    },
    {
      "cell_type": "code",
      "source": [
        "from math import sqrt\n",
        "from sklearn.metrics import mean_squared_error\n",
        "\n",
        "rmse = sqrt(mean_squared_error(xtest,pred))"
      ],
      "metadata": {
        "id": "QR6NS7rsuC3E"
      },
      "execution_count": 24,
      "outputs": []
    },
    {
      "cell_type": "code",
      "source": [
        "error_percent = (rmse/xtest.mean())*100"
      ],
      "metadata": {
        "id": "rdAXmsiPJ6JA"
      },
      "execution_count": 25,
      "outputs": []
    },
    {
      "cell_type": "code",
      "source": [
        "print(\"RMSE For ARMA Model is : \",rmse)\n",
        "print(\"Error Percentage for ARMA Model is :\",error_percent, \"%\")\n"
      ],
      "metadata": {
        "id": "EYayl_iguRGZ",
        "colab": {
          "base_uri": "https://localhost:8080/"
        },
        "outputId": "5cc577d6-d99e-403c-d01a-488e0d4cef34"
      },
      "execution_count": 26,
      "outputs": [
        {
          "output_type": "stream",
          "name": "stdout",
          "text": [
            "RMSE For ARMA Model is :  146.38213211467308\n",
            "Error Percentage for ARMA Model is : 10.212723517085239 %\n"
          ]
        }
      ]
    },
    {
      "cell_type": "markdown",
      "source": [
        "#ARIMA Model"
      ],
      "metadata": {
        "id": "bGl4Yp2jymld"
      }
    },
    {
      "cell_type": "markdown",
      "source": [
        "#Finding Best Order for ARIMA Model"
      ],
      "metadata": {
        "id": "qzGMhPeoA3v3"
      }
    },
    {
      "cell_type": "code",
      "source": [
        "df2['Total_Load']\n",
        "stepwise_fit = auto_arima(df2['Total_Load'], trace = True, suppress_warnings = True)\n",
        "\n",
        "stepwise_fit.summary()"
      ],
      "metadata": {
        "id": "l686Rs9MCJdx",
        "colab": {
          "base_uri": "https://localhost:8080/",
          "height": 878
        },
        "outputId": "52785b5a-329e-4949-a4ce-5f32b8adb416"
      },
      "execution_count": 27,
      "outputs": [
        {
          "output_type": "stream",
          "name": "stdout",
          "text": [
            "Performing stepwise search to minimize aic\n",
            " ARIMA(2,1,2)(0,0,0)[0] intercept   : AIC=3618.871, Time=0.58 sec\n",
            " ARIMA(0,1,0)(0,0,0)[0] intercept   : AIC=3712.223, Time=0.03 sec\n",
            " ARIMA(1,1,0)(0,0,0)[0] intercept   : AIC=3705.880, Time=0.05 sec\n",
            " ARIMA(0,1,1)(0,0,0)[0] intercept   : AIC=3660.573, Time=0.12 sec\n",
            " ARIMA(0,1,0)(0,0,0)[0]             : AIC=3710.227, Time=0.03 sec\n",
            " ARIMA(1,1,2)(0,0,0)[0] intercept   : AIC=3620.154, Time=0.35 sec\n",
            " ARIMA(2,1,1)(0,0,0)[0] intercept   : AIC=3616.911, Time=0.58 sec\n",
            " ARIMA(1,1,1)(0,0,0)[0] intercept   : AIC=3628.830, Time=0.52 sec\n",
            " ARIMA(2,1,0)(0,0,0)[0] intercept   : AIC=3668.270, Time=0.18 sec\n",
            " ARIMA(3,1,1)(0,0,0)[0] intercept   : AIC=3618.840, Time=1.42 sec\n",
            " ARIMA(3,1,0)(0,0,0)[0] intercept   : AIC=3645.405, Time=0.22 sec\n",
            " ARIMA(3,1,2)(0,0,0)[0] intercept   : AIC=3620.746, Time=1.70 sec\n",
            " ARIMA(2,1,1)(0,0,0)[0]             : AIC=3615.217, Time=0.40 sec\n",
            " ARIMA(1,1,1)(0,0,0)[0]             : AIC=3627.503, Time=0.28 sec\n",
            " ARIMA(2,1,0)(0,0,0)[0]             : AIC=3666.281, Time=0.11 sec\n",
            " ARIMA(3,1,1)(0,0,0)[0]             : AIC=3617.167, Time=0.57 sec\n",
            " ARIMA(2,1,2)(0,0,0)[0]             : AIC=3617.188, Time=0.80 sec\n",
            " ARIMA(1,1,0)(0,0,0)[0]             : AIC=3703.886, Time=0.06 sec\n",
            " ARIMA(1,1,2)(0,0,0)[0]             : AIC=3618.660, Time=0.43 sec\n",
            " ARIMA(3,1,0)(0,0,0)[0]             : AIC=3643.422, Time=0.11 sec\n",
            " ARIMA(3,1,2)(0,0,0)[0]             : AIC=3619.036, Time=1.16 sec\n",
            "\n",
            "Best model:  ARIMA(2,1,1)(0,0,0)[0]          \n",
            "Total fit time: 9.792 seconds\n"
          ]
        },
        {
          "output_type": "execute_result",
          "data": {
            "text/plain": [
              "<class 'statsmodels.iolib.summary.Summary'>\n",
              "\"\"\"\n",
              "                               SARIMAX Results                                \n",
              "==============================================================================\n",
              "Dep. Variable:                      y   No. Observations:                  288\n",
              "Model:               SARIMAX(2, 1, 1)   Log Likelihood               -1803.609\n",
              "Date:                Wed, 15 Feb 2023   AIC                           3615.217\n",
              "Time:                        14:47:26   BIC                           3629.855\n",
              "Sample:                             0   HQIC                          3621.084\n",
              "                                - 288                                         \n",
              "Covariance Type:                  opg                                         \n",
              "==============================================================================\n",
              "                 coef    std err          z      P>|z|      [0.025      0.975]\n",
              "------------------------------------------------------------------------------\n",
              "ar.L1          0.4004      0.060      6.645      0.000       0.282       0.519\n",
              "ar.L2         -0.2449      0.055     -4.430      0.000      -0.353      -0.137\n",
              "ma.L1         -0.8725      0.043    -20.493      0.000      -0.956      -0.789\n",
              "sigma2      1.675e+04    930.873     17.994      0.000    1.49e+04    1.86e+04\n",
              "===================================================================================\n",
              "Ljung-Box (L1) (Q):                   0.00   Jarque-Bera (JB):               121.30\n",
              "Prob(Q):                              0.99   Prob(JB):                         0.00\n",
              "Heteroskedasticity (H):               1.36   Skew:                             0.16\n",
              "Prob(H) (two-sided):                  0.14   Kurtosis:                         6.17\n",
              "===================================================================================\n",
              "\n",
              "Warnings:\n",
              "[1] Covariance matrix calculated using the outer product of gradients (complex-step).\n",
              "\"\"\""
            ],
            "text/html": [
              "<table class=\"simpletable\">\n",
              "<caption>SARIMAX Results</caption>\n",
              "<tr>\n",
              "  <th>Dep. Variable:</th>           <td>y</td>        <th>  No. Observations:  </th>    <td>288</td>   \n",
              "</tr>\n",
              "<tr>\n",
              "  <th>Model:</th>           <td>SARIMAX(2, 1, 1)</td> <th>  Log Likelihood     </th> <td>-1803.609</td>\n",
              "</tr>\n",
              "<tr>\n",
              "  <th>Date:</th>            <td>Wed, 15 Feb 2023</td> <th>  AIC                </th> <td>3615.217</td> \n",
              "</tr>\n",
              "<tr>\n",
              "  <th>Time:</th>                <td>14:47:26</td>     <th>  BIC                </th> <td>3629.855</td> \n",
              "</tr>\n",
              "<tr>\n",
              "  <th>Sample:</th>                  <td>0</td>        <th>  HQIC               </th> <td>3621.084</td> \n",
              "</tr>\n",
              "<tr>\n",
              "  <th></th>                      <td> - 288</td>      <th>                     </th>     <td> </td>    \n",
              "</tr>\n",
              "<tr>\n",
              "  <th>Covariance Type:</th>        <td>opg</td>       <th>                     </th>     <td> </td>    \n",
              "</tr>\n",
              "</table>\n",
              "<table class=\"simpletable\">\n",
              "<tr>\n",
              "     <td></td>       <th>coef</th>     <th>std err</th>      <th>z</th>      <th>P>|z|</th>  <th>[0.025</th>    <th>0.975]</th>  \n",
              "</tr>\n",
              "<tr>\n",
              "  <th>ar.L1</th>  <td>    0.4004</td> <td>    0.060</td> <td>    6.645</td> <td> 0.000</td> <td>    0.282</td> <td>    0.519</td>\n",
              "</tr>\n",
              "<tr>\n",
              "  <th>ar.L2</th>  <td>   -0.2449</td> <td>    0.055</td> <td>   -4.430</td> <td> 0.000</td> <td>   -0.353</td> <td>   -0.137</td>\n",
              "</tr>\n",
              "<tr>\n",
              "  <th>ma.L1</th>  <td>   -0.8725</td> <td>    0.043</td> <td>  -20.493</td> <td> 0.000</td> <td>   -0.956</td> <td>   -0.789</td>\n",
              "</tr>\n",
              "<tr>\n",
              "  <th>sigma2</th> <td> 1.675e+04</td> <td>  930.873</td> <td>   17.994</td> <td> 0.000</td> <td> 1.49e+04</td> <td> 1.86e+04</td>\n",
              "</tr>\n",
              "</table>\n",
              "<table class=\"simpletable\">\n",
              "<tr>\n",
              "  <th>Ljung-Box (L1) (Q):</th>     <td>0.00</td> <th>  Jarque-Bera (JB):  </th> <td>121.30</td>\n",
              "</tr>\n",
              "<tr>\n",
              "  <th>Prob(Q):</th>                <td>0.99</td> <th>  Prob(JB):          </th>  <td>0.00</td> \n",
              "</tr>\n",
              "<tr>\n",
              "  <th>Heteroskedasticity (H):</th> <td>1.36</td> <th>  Skew:              </th>  <td>0.16</td> \n",
              "</tr>\n",
              "<tr>\n",
              "  <th>Prob(H) (two-sided):</th>    <td>0.14</td> <th>  Kurtosis:          </th>  <td>6.17</td> \n",
              "</tr>\n",
              "</table><br/><br/>Warnings:<br/>[1] Covariance matrix calculated using the outer product of gradients (complex-step)."
            ]
          },
          "metadata": {},
          "execution_count": 27
        }
      ]
    },
    {
      "cell_type": "markdown",
      "source": [
        "#Importing Libraries for ARIMA Model"
      ],
      "metadata": {
        "id": "TYFCD90AZ9g2"
      }
    },
    {
      "cell_type": "code",
      "source": [
        "from statsmodels.tsa.arima.model import ARIMA"
      ],
      "metadata": {
        "id": "cX3lSc6UC62I"
      },
      "execution_count": 28,
      "outputs": []
    },
    {
      "cell_type": "markdown",
      "source": [
        "#Training ARIMA Model on Traning Set"
      ],
      "metadata": {
        "id": "f8-gSMndAfWr"
      }
    },
    {
      "cell_type": "code",
      "source": [
        "Amodel = ARIMA(xtrain, order = (2,1,1)).fit()\n",
        "\n",
        "Amodel.summary"
      ],
      "metadata": {
        "id": "CJE1vY6SDl0X",
        "colab": {
          "base_uri": "https://localhost:8080/"
        },
        "outputId": "46e877ce-c286-4227-eaba-66d7e0aad455"
      },
      "execution_count": 29,
      "outputs": [
        {
          "output_type": "execute_result",
          "data": {
            "text/plain": [
              "<bound method SARIMAXResults.summary of <statsmodels.tsa.arima.model.ARIMAResults object at 0x7f5f240f2be0>>"
            ]
          },
          "metadata": {},
          "execution_count": 29
        }
      ]
    },
    {
      "cell_type": "markdown",
      "source": [
        "#Testing the ARIMA Model"
      ],
      "metadata": {
        "id": "Gp7yXhhrBE_s"
      }
    },
    {
      "cell_type": "code",
      "source": [
        "#Predicting the Future Values\n",
        "\n",
        "start = len(xtrain)\n",
        "end = len(x)-1\n",
        "\n",
        "new_pred = Amodel.predict(start = start, end = end, typ = 'levels')\n",
        "print(new_pred)"
      ],
      "metadata": {
        "id": "HeftV0t-EOUF",
        "colab": {
          "base_uri": "https://localhost:8080/"
        },
        "outputId": "3846aa39-4023-41ae-8a8f-7bcecd998c51"
      },
      "execution_count": 30,
      "outputs": [
        {
          "output_type": "stream",
          "name": "stdout",
          "text": [
            "[1429.91062923 1453.42669987 1453.87558837 1447.81964994 1445.30363304\n",
            " 1445.91305967 1446.82122241 1447.0191399  1446.85674363 1446.74000114\n",
            " 1446.73684064 1446.76653564 1446.77912713 1446.77623949 1446.77175879\n",
            " 1446.77075072 1446.77153944 1446.77211885 1446.77213912 1446.77199355\n",
            " 1446.77193056 1446.77194421 1446.77196632 1446.77197144 1446.77196762\n",
            " 1446.77196474 1446.77196462 1446.77196533 1446.77196565 1446.77196558]\n"
          ]
        }
      ]
    },
    {
      "cell_type": "code",
      "source": [
        "#Plotting the Predicted and Actual values\n",
        "\n",
        "pyplot.plot(new_pred, label=\"Predicted Value\")\n",
        "pyplot.plot(xtest, label=\"Actual Value\")\n",
        "pyplot.xlabel(\"Date\")\n",
        "pyplot.ylabel(\"Load\")\n",
        "pyplot.title(\"Energy Load Comparison between Actual and Predicted Value\")\n",
        "pyplot.legend(loc=\"best\")"
      ],
      "metadata": {
        "id": "SFz9VrZLXiE2",
        "colab": {
          "base_uri": "https://localhost:8080/",
          "height": 312
        },
        "outputId": "dce38e4c-0416-4990-8213-d17d92bb2ce3"
      },
      "execution_count": 31,
      "outputs": [
        {
          "output_type": "execute_result",
          "data": {
            "text/plain": [
              "<matplotlib.legend.Legend at 0x7f5f2410c490>"
            ]
          },
          "metadata": {},
          "execution_count": 31
        },
        {
          "output_type": "display_data",
          "data": {
            "text/plain": [
              "<Figure size 432x288 with 1 Axes>"
            ],
            "image/png": "[encoded data removed]"
          },
          "metadata": {
            "needs_background": "light"
          }
        }
      ]
    },
    {
      "cell_type": "markdown",
      "source": [
        "#Calculating the Error Percentage for ARIMA Model"
      ],
      "metadata": {
        "id": "JO9CWk71BPch"
      }
    },
    {
      "cell_type": "code",
      "source": [
        "xtest.mean()"
      ],
      "metadata": {
        "id": "Bl3oTCQmiIK_",
        "colab": {
          "base_uri": "https://localhost:8080/"
        },
        "outputId": "b71faca1-b424-4015-db28-024736ce2d62"
      },
      "execution_count": 32,
      "outputs": [
        {
          "output_type": "execute_result",
          "data": {
            "text/plain": [
              "1433.3310000000004"
            ]
          },
          "metadata": {},
          "execution_count": 32
        }
      ]
    },
    {
      "cell_type": "code",
      "source": [
        "from math import sqrt\n",
        "from sklearn.metrics import mean_squared_error\n",
        "\n",
        "new_rmse = sqrt(mean_squared_error(xtest,new_pred))"
      ],
      "metadata": {
        "id": "axPLfYuoi6z5"
      },
      "execution_count": 33,
      "outputs": []
    },
    {
      "cell_type": "code",
      "source": [
        "print(\"The mean is : \",xtest.mean())\n",
        "print(\"RMSE for ARIMA Model is : \",new_rmse)\n",
        "print(\"Error Percentage for ARIMA Model is : \",(new_rmse/xtest.mean())*100, \"%\")"
      ],
      "metadata": {
        "id": "xejMG1nLjD7g",
        "colab": {
          "base_uri": "https://localhost:8080/"
        },
        "outputId": "52588fad-2c34-4c64-80e3-daca137edaff"
      },
      "execution_count": 34,
      "outputs": [
        {
          "output_type": "stream",
          "name": "stdout",
          "text": [
            "The mean is :  1433.3310000000004\n",
            "RMSE for ARIMA Model is :  103.80655428445766\n",
            "Error Percentage for ARIMA Model is :  7.242329530614885 %\n"
          ]
        }
      ]
    },
    {
      "cell_type": "markdown",
      "source": [
        "#SARIMA Model"
      ],
      "metadata": {
        "id": "PXxHWeem2P61"
      }
    },
    {
      "cell_type": "markdown",
      "source": [
        "#Importing Libraries for the SARIMA Model"
      ],
      "metadata": {
        "id": "O6SmMowQYZAk"
      }
    },
    {
      "cell_type": "code",
      "source": [
        "from statsmodels.tsa.statespace.sarimax import SARIMAX\n",
        "from sklearn.metrics import mean_squared_error\n",
        "from math import sqrt"
      ],
      "metadata": {
        "id": "B3UBmdkeCQB2"
      },
      "execution_count": 35,
      "outputs": []
    },
    {
      "cell_type": "markdown",
      "source": [
        "#Training SARIMA Model on Training Set"
      ],
      "metadata": {
        "id": "jN9dVJP1YicL"
      }
    },
    {
      "cell_type": "code",
      "source": [
        "model_sarima = SARIMAX(xtrain, order=(2, 1, 2), seasonal_order=(0, 1, 1, 7))\n",
        "model_sarima_fit = model_sarima.fit()"
      ],
      "metadata": {
        "id": "uiH4aPNeY0Eg"
      },
      "execution_count": 36,
      "outputs": []
    },
    {
      "cell_type": "markdown",
      "source": [
        "#Testing the SARIMA Model"
      ],
      "metadata": {
        "id": "OyBw2zoEY7oZ"
      }
    },
    {
      "cell_type": "code",
      "source": [
        "#Predicting the Future Values\n",
        "\n",
        "sarima_prediction = model_sarima_fit.forecast(steps=len(xtest))\n",
        "print(sarima_prediction)"
      ],
      "metadata": {
        "id": "zXsCtd8qZKSJ",
        "colab": {
          "base_uri": "https://localhost:8080/"
        },
        "outputId": "4ebfada0-23a6-436c-8d7d-4c225ac3405f"
      },
      "execution_count": 37,
      "outputs": [
        {
          "output_type": "stream",
          "name": "stdout",
          "text": [
            "[1447.50864124 1452.85118827 1466.98461547 1452.07761642 1425.97874281\n",
            " 1431.87130884 1430.16947159 1456.80123368 1444.21389223 1458.55077331\n",
            " 1448.07460123 1423.34330034 1428.59439331 1426.35440279 1452.97023983\n",
            " 1440.50884024 1454.88987892 1444.39716412 1419.64982043 1424.89981041\n",
            " 1422.6633734  1449.28061552 1436.81880007 1451.19936362 1440.70659812\n",
            " 1415.9593539  1421.20938804 1418.97294094 1445.59016907 1433.12835161]\n"
          ]
        }
      ]
    },
    {
      "cell_type": "code",
      "source": [
        "#Plotting the Predicted and Actual values\n",
        "\n",
        "pyplot.plot(sarima_prediction, label=\"Predicted Value\")\n",
        "pyplot.plot(xtest, label=\"Actual Value\")\n",
        "pyplot.xlabel(\"Date\")\n",
        "pyplot.ylabel(\"Load\")\n",
        "pyplot.title(\"Energy Load Comparison between Actual and Predicted Value\")\n",
        "pyplot.legend(loc=\"best\")"
      ],
      "metadata": {
        "id": "iVxE4rxBasrt",
        "colab": {
          "base_uri": "https://localhost:8080/",
          "height": 312
        },
        "outputId": "a9532ec0-a06b-4157-f26e-182555854ced"
      },
      "execution_count": 38,
      "outputs": [
        {
          "output_type": "execute_result",
          "data": {
            "text/plain": [
              "<matplotlib.legend.Legend at 0x7f5f2403f670>"
            ]
          },
          "metadata": {},
          "execution_count": 38
        },
        {
          "output_type": "display_data",
          "data": {
            "text/plain": [
              "<Figure size 432x288 with 1 Axes>"
            ],
            "image/png": "[encoded data removed]"
          },
          "metadata": {
            "needs_background": "light"
          }
        }
      ]
    },
    {
      "cell_type": "markdown",
      "source": [
        "#Calculating the Error Percentage for SARIMA Model"
      ],
      "metadata": {
        "id": "uYMb58zwa9Rl"
      }
    },
    {
      "cell_type": "code",
      "source": [
        "sarima_rmse = sqrt(mean_squared_error(xtest,sarima_prediction))"
      ],
      "metadata": {
        "id": "wsDxvw_sbE1t"
      },
      "execution_count": 39,
      "outputs": []
    },
    {
      "cell_type": "code",
      "source": [
        "print(\"RMSE for SARIMA Model is : \",sarima_rmse)\n",
        "print(\"Error Percentage for SARIMA Model is : \",(sarima_rmse/xtest.mean())*100, \"%\")"
      ],
      "metadata": {
        "id": "BdzeHOxybbCP",
        "colab": {
          "base_uri": "https://localhost:8080/"
        },
        "outputId": "fc6b2a77-a2de-47d7-8593-a2969ce3f123"
      },
      "execution_count": 40,
      "outputs": [
        {
          "output_type": "stream",
          "name": "stdout",
          "text": [
            "RMSE for SARIMA Model is :  101.37448985962472\n",
            "Error Percentage for SARIMA Model is :  7.07265034103251 %\n"
          ]
        }
      ]
    },
    {
      "cell_type": "markdown",
      "source": [
        "#LSTM Model"
      ],
      "metadata": {
        "id": "-QLFG5gbgDHO"
      }
    },
    {
      "cell_type": "markdown",
      "source": [
        "#Making Scalar Object for Data to Fit it into the Model"
      ],
      "metadata": {
        "id": "dQjzZsA5IWae"
      }
    },
    {
      "cell_type": "code",
      "source": [
        "from sklearn.preprocessing import MinMaxScaler\n",
        "scaler = MinMaxScaler()"
      ],
      "metadata": {
        "id": "ORfj5xpOCTLq"
      },
      "execution_count": 41,
      "outputs": []
    },
    {
      "cell_type": "code",
      "source": [
        "xtrain = xtrain.reshape(-1, 1)\n",
        "xtest = xtest.reshape(-1, 1)"
      ],
      "metadata": {
        "id": "V3kz6GjwCgKi"
      },
      "execution_count": 42,
      "outputs": []
    },
    {
      "cell_type": "code",
      "source": [
        "scaler.fit(xtrain)\n",
        "scaled_train = scaler.transform(xtrain)\n",
        "scaled_test = scaler.transform(xtest)"
      ],
      "metadata": {
        "id": "dh7NWEs8CW6v"
      },
      "execution_count": 43,
      "outputs": []
    },
    {
      "cell_type": "code",
      "source": [
        "scaled_train[:10]"
      ],
      "metadata": {
        "id": "We-qHZI_DAhZ",
        "colab": {
          "base_uri": "https://localhost:8080/"
        },
        "outputId": "9eab65c9-856b-4600-acd7-a7cd322254c0"
      },
      "execution_count": 44,
      "outputs": [
        {
          "output_type": "execute_result",
          "data": {
            "text/plain": [
              "array([[0.59050883],\n",
              "       [0.53495327],\n",
              "       [0.54638629],\n",
              "       [0.43144341],\n",
              "       [0.38871236],\n",
              "       [0.58475597],\n",
              "       [0.54928349],\n",
              "       [0.5901973 ],\n",
              "       [0.78480789],\n",
              "       [0.95836968]])"
            ]
          },
          "metadata": {},
          "execution_count": 44
        }
      ]
    },
    {
      "cell_type": "markdown",
      "source": [
        "#Preprocessing the Data"
      ],
      "metadata": {
        "id": "hWnzMVOWJFxK"
      }
    },
    {
      "cell_type": "code",
      "source": [
        "from keras.preprocessing.sequence import TimeseriesGenerator"
      ],
      "metadata": {
        "id": "CfjdtAao6KSS"
      },
      "execution_count": 45,
      "outputs": []
    },
    {
      "cell_type": "code",
      "source": [
        "# define generator\n",
        "n_input = 30\n",
        "n_features = 1\n",
        "generator = TimeseriesGenerator(scaled_train, scaled_train, length=n_input, batch_size=1)"
      ],
      "metadata": {
        "id": "FrL0ii2V6b7j"
      },
      "execution_count": 46,
      "outputs": []
    },
    {
      "cell_type": "code",
      "source": [
        "X,y = generator[0]\n",
        "print(f'Given the Array: \\n{X.flatten()}')\n",
        "print(f'Predict this y: \\n {y}')"
      ],
      "metadata": {
        "id": "NJfjYZo66051",
        "colab": {
          "base_uri": "https://localhost:8080/"
        },
        "outputId": "6b1eb3d3-b812-469c-921c-995196cb7d78"
      },
      "execution_count": 47,
      "outputs": [
        {
          "output_type": "stream",
          "name": "stdout",
          "text": [
            "Given the Array: \n",
            "[0.59050883 0.53495327 0.54638629 0.43144341 0.38871236 0.58475597\n",
            " 0.54928349 0.5901973  0.78480789 0.95836968 0.77033229 0.6525649\n",
            " 0.59750779 0.6394704  0.52764278 0.56787124 0.42937695 0.70922118\n",
            " 0.52792316 0.56064382 0.51110073 0.44608515 0.54959502 0.521973\n",
            " 0.5519107  0.6919107  0.68218069 0.64365524 0.63904465 0.71376947]\n",
            "Predict this y: \n",
            " [[0.71791277]]\n"
          ]
        }
      ]
    },
    {
      "cell_type": "code",
      "source": [
        "X.shape"
      ],
      "metadata": {
        "id": "HnmBULux7M0V",
        "colab": {
          "base_uri": "https://localhost:8080/"
        },
        "outputId": "1ce969c3-a685-495b-cd79-2a1332479343"
      },
      "execution_count": 48,
      "outputs": [
        {
          "output_type": "execute_result",
          "data": {
            "text/plain": [
              "(1, 30, 1)"
            ]
          },
          "metadata": {},
          "execution_count": 48
        }
      ]
    },
    {
      "cell_type": "markdown",
      "source": [
        "#Training the LSTM Model on Training Set"
      ],
      "metadata": {
        "id": "Q1Y9GV8MJR__"
      }
    },
    {
      "cell_type": "code",
      "source": [
        "from keras.models import Sequential\n",
        "from keras.layers import Dense\n",
        "from keras.layers import LSTM"
      ],
      "metadata": {
        "id": "bS1pRECM7UmO"
      },
      "execution_count": 49,
      "outputs": []
    },
    {
      "cell_type": "code",
      "source": [
        "# define model\n",
        "model = Sequential()\n",
        "model.add(LSTM(100, activation='relu', input_shape=(n_input, n_features)))\n",
        "model.add(Dense(1))\n",
        "model.compile(optimizer='adam', loss='mse')"
      ],
      "metadata": {
        "id": "6GmhzGoF7bl4"
      },
      "execution_count": 50,
      "outputs": []
    },
    {
      "cell_type": "code",
      "source": [
        "model.summary()"
      ],
      "metadata": {
        "id": "T02F9tK17idH",
        "colab": {
          "base_uri": "https://localhost:8080/"
        },
        "outputId": "90b27f27-ce7e-43ea-c06b-92b8612649fd"
      },
      "execution_count": 51,
      "outputs": [
        {
          "output_type": "stream",
          "name": "stdout",
          "text": [
            "Model: \"sequential\"\n",
            "_________________________________________________________________\n",
            " Layer (type)                Output Shape              Param #   \n",
            "=================================================================\n",
            " lstm (LSTM)                 (None, 100)               40800     \n",
            "                                                                 \n",
            " dense (Dense)               (None, 1)                 101       \n",
            "                                                                 \n",
            "=================================================================\n",
            "Total params: 40,901\n",
            "Trainable params: 40,901\n",
            "Non-trainable params: 0\n",
            "_________________________________________________________________\n"
          ]
        }
      ]
    },
    {
      "cell_type": "code",
      "source": [
        "# fit model\n",
        "model.fit(generator,epochs=50)"
      ],
      "metadata": {
        "id": "H8uGaOvv7l0F",
        "colab": {
          "base_uri": "https://localhost:8080/"
        },
        "outputId": "314b26e0-1690-4a69-abf6-e05da3d03159"
      },
      "execution_count": 52,
      "outputs": [
        {
          "output_type": "stream",
          "name": "stdout",
          "text": [
            "Epoch 1/50\n",
            "228/228 [==============================] - 12s 32ms/step - loss: 0.0374\n",
            "Epoch 2/50\n",
            "228/228 [==============================] - 5s 23ms/step - loss: 0.0261\n",
            "Epoch 3/50\n",
            "228/228 [==============================] - 5s 21ms/step - loss: 0.0269\n",
            "Epoch 4/50\n",
            "228/228 [==============================] - 3s 14ms/step - loss: 0.0245\n",
            "Epoch 5/50\n",
            "228/228 [==============================] - 3s 13ms/step - loss: 0.0256\n",
            "Epoch 6/50\n",
            "228/228 [==============================] - 5s 21ms/step - loss: 0.0244\n",
            "Epoch 7/50\n",
            "228/228 [==============================] - 3s 13ms/step - loss: 0.0245\n",
            "Epoch 8/50\n",
            "228/228 [==============================] - 3s 14ms/step - loss: 0.0246\n",
            "Epoch 9/50\n",
            "228/228 [==============================] - 4s 15ms/step - loss: 0.0243\n",
            "Epoch 10/50\n",
            "228/228 [==============================] - 4s 15ms/step - loss: 0.0244\n",
            "Epoch 11/50\n",
            "228/228 [==============================] - 3s 14ms/step - loss: 0.0239\n",
            "Epoch 12/50\n",
            "228/228 [==============================] - 3s 14ms/step - loss: 0.0237\n",
            "Epoch 13/50\n",
            "228/228 [==============================] - 4s 17ms/step - loss: 0.0231\n",
            "Epoch 14/50\n",
            "228/228 [==============================] - 3s 14ms/step - loss: 0.0243\n",
            "Epoch 15/50\n",
            "228/228 [==============================] - 4s 16ms/step - loss: 0.0241\n",
            "Epoch 16/50\n",
            "228/228 [==============================] - 4s 16ms/step - loss: 0.0231\n",
            "Epoch 17/50\n",
            "228/228 [==============================] - 3s 14ms/step - loss: 0.0230\n",
            "Epoch 18/50\n",
            "228/228 [==============================] - 4s 19ms/step - loss: 0.0227\n",
            "Epoch 19/50\n",
            "228/228 [==============================] - 4s 16ms/step - loss: 0.0226\n",
            "Epoch 20/50\n",
            "228/228 [==============================] - 4s 18ms/step - loss: 0.0223\n",
            "Epoch 21/50\n",
            "228/228 [==============================] - 5s 24ms/step - loss: 0.0224\n",
            "Epoch 22/50\n",
            "228/228 [==============================] - 3s 14ms/step - loss: 0.0220\n",
            "Epoch 23/50\n",
            "228/228 [==============================] - 4s 16ms/step - loss: 0.0215\n",
            "Epoch 24/50\n",
            "228/228 [==============================] - 5s 21ms/step - loss: 0.0216\n",
            "Epoch 25/50\n",
            "228/228 [==============================] - 3s 14ms/step - loss: 0.0219\n",
            "Epoch 26/50\n",
            "228/228 [==============================] - 3s 15ms/step - loss: 0.0208\n",
            "Epoch 27/50\n",
            "228/228 [==============================] - 5s 21ms/step - loss: 0.0213\n",
            "Epoch 28/50\n",
            "228/228 [==============================] - 3s 14ms/step - loss: 0.0209\n",
            "Epoch 29/50\n",
            "228/228 [==============================] - 3s 13ms/step - loss: 0.0203\n",
            "Epoch 30/50\n",
            "228/228 [==============================] - 4s 16ms/step - loss: 0.0210\n",
            "Epoch 31/50\n",
            "228/228 [==============================] - 4s 17ms/step - loss: 0.0207\n",
            "Epoch 32/50\n",
            "228/228 [==============================] - 3s 13ms/step - loss: 0.0206\n",
            "Epoch 33/50\n",
            "228/228 [==============================] - 3s 14ms/step - loss: 0.0207\n",
            "Epoch 34/50\n",
            "228/228 [==============================] - 5s 21ms/step - loss: 0.0205\n",
            "Epoch 35/50\n",
            "228/228 [==============================] - 3s 14ms/step - loss: 0.0211\n",
            "Epoch 36/50\n",
            "228/228 [==============================] - 3s 14ms/step - loss: 0.0206\n",
            "Epoch 37/50\n",
            "228/228 [==============================] - 5s 21ms/step - loss: 0.0202\n",
            "Epoch 38/50\n",
            "228/228 [==============================] - 3s 14ms/step - loss: 0.0206\n",
            "Epoch 39/50\n",
            "228/228 [==============================] - 3s 14ms/step - loss: 0.0212\n",
            "Epoch 40/50\n",
            "228/228 [==============================] - 3s 14ms/step - loss: 0.0204\n",
            "Epoch 41/50\n",
            "228/228 [==============================] - 4s 19ms/step - loss: 0.0204\n",
            "Epoch 42/50\n",
            "228/228 [==============================] - 3s 14ms/step - loss: 0.0199\n",
            "Epoch 43/50\n",
            "228/228 [==============================] - 3s 14ms/step - loss: 0.0200\n",
            "Epoch 44/50\n",
            "228/228 [==============================] - 3s 13ms/step - loss: 0.0206\n",
            "Epoch 45/50\n",
            "228/228 [==============================] - 4s 17ms/step - loss: 0.0203\n",
            "Epoch 46/50\n",
            "228/228 [==============================] - 3s 14ms/step - loss: 0.0199\n",
            "Epoch 47/50\n",
            "228/228 [==============================] - 4s 17ms/step - loss: 0.0200\n",
            "Epoch 48/50\n",
            "228/228 [==============================] - 4s 20ms/step - loss: 0.0199\n",
            "Epoch 49/50\n",
            "228/228 [==============================] - 3s 14ms/step - loss: 0.0195\n",
            "Epoch 50/50\n",
            "228/228 [==============================] - 3s 13ms/step - loss: 0.0200\n"
          ]
        },
        {
          "output_type": "execute_result",
          "data": {
            "text/plain": [
              "<keras.callbacks.History at 0x7f5ec11b1e20>"
            ]
          },
          "metadata": {},
          "execution_count": 52
        }
      ]
    },
    {
      "cell_type": "code",
      "source": [
        "loss_per_epoch = model.history.history['loss']\n",
        "pyplot.plot(range(len(loss_per_epoch)),loss_per_epoch)"
      ],
      "metadata": {
        "id": "e2fo--MN7s-T",
        "colab": {
          "base_uri": "https://localhost:8080/",
          "height": 282
        },
        "outputId": "ab825a0e-821d-492e-a25e-9e108cca5b77"
      },
      "execution_count": 53,
      "outputs": [
        {
          "output_type": "execute_result",
          "data": {
            "text/plain": [
              "[<matplotlib.lines.Line2D at 0x7f5eb0db9f40>]"
            ]
          },
          "metadata": {},
          "execution_count": 53
        },
        {
          "output_type": "display_data",
          "data": {
            "text/plain": [
              "<Figure size 432x288 with 1 Axes>"
            ],
            "image/png": "[encoded data removed]"
          },
          "metadata": {
            "needs_background": "light"
          }
        }
      ]
    },
    {
      "cell_type": "code",
      "source": [
        "last_train_batch = scaled_train[-30:]"
      ],
      "metadata": {
        "id": "qQ9swCqT8NdV"
      },
      "execution_count": 54,
      "outputs": []
    },
    {
      "cell_type": "code",
      "source": [
        "last_train_batch = last_train_batch.reshape((1, n_input, n_features))"
      ],
      "metadata": {
        "id": "ok4fTDRz8VKB"
      },
      "execution_count": 55,
      "outputs": []
    },
    {
      "cell_type": "code",
      "source": [
        "model.predict(last_train_batch)"
      ],
      "metadata": {
        "id": "uuxc9vSW8Z-E",
        "colab": {
          "base_uri": "https://localhost:8080/"
        },
        "outputId": "75fde13b-6431-4cd0-ca97-97c307d5fd3f"
      },
      "execution_count": 56,
      "outputs": [
        {
          "output_type": "stream",
          "name": "stdout",
          "text": [
            "1/1 [==============================] - 0s 407ms/step\n"
          ]
        },
        {
          "output_type": "execute_result",
          "data": {
            "text/plain": [
              "array([[0.45277232]], dtype=float32)"
            ]
          },
          "metadata": {},
          "execution_count": 56
        }
      ]
    },
    {
      "cell_type": "code",
      "source": [
        "scaled_test[0]"
      ],
      "metadata": {
        "id": "saSpFnji8i41",
        "colab": {
          "base_uri": "https://localhost:8080/"
        },
        "outputId": "c86d009d-fde9-437b-c394-2188306ffa7d"
      },
      "execution_count": 57,
      "outputs": [
        {
          "output_type": "execute_result",
          "data": {
            "text/plain": [
              "array([0.38119418])"
            ]
          },
          "metadata": {},
          "execution_count": 57
        }
      ]
    },
    {
      "cell_type": "markdown",
      "source": [
        "#Testing the LSTM Model"
      ],
      "metadata": {
        "id": "AGmaSvSrJvLK"
      }
    },
    {
      "cell_type": "code",
      "source": [
        "test_predictions = []\n",
        "\n",
        "first_eval_batch = scaled_train[-n_input:]\n",
        "current_batch = first_eval_batch.reshape((1, n_input, n_features))\n",
        "\n",
        "for i in range(len(xtest)):\n",
        "    \n",
        "    # get the prediction value for the first batch\n",
        "    current_pred = model.predict(current_batch)[0]\n",
        "    \n",
        "    # append the prediction into the array\n",
        "    test_predictions.append(current_pred) \n",
        "    \n",
        "    # use the prediction to update the batch and remove the first value\n",
        "    current_batch = np.append(current_batch[:,1:,:],[[current_pred]],axis=1)"
      ],
      "metadata": {
        "id": "KS2bmbTT8spu",
        "colab": {
          "base_uri": "https://localhost:8080/"
        },
        "outputId": "82a9c1ef-f204-462b-aea3-3d8dc4b1f0a1"
      },
      "execution_count": 58,
      "outputs": [
        {
          "output_type": "stream",
          "name": "stdout",
          "text": [
            "1/1 [==============================] - 0s 38ms/step\n",
            "1/1 [==============================] - 0s 37ms/step\n",
            "1/1 [==============================] - 0s 37ms/step\n",
            "1/1 [==============================] - 0s 35ms/step\n",
            "1/1 [==============================] - 0s 38ms/step\n",
            "1/1 [==============================] - 0s 37ms/step\n",
            "1/1 [==============================] - 0s 34ms/step\n",
            "1/1 [==============================] - 0s 37ms/step\n",
            "1/1 [==============================] - 0s 36ms/step\n",
            "1/1 [==============================] - 0s 38ms/step\n",
            "1/1 [==============================] - 0s 42ms/step\n",
            "1/1 [==============================] - 0s 38ms/step\n",
            "1/1 [==============================] - 0s 42ms/step\n",
            "1/1 [==============================] - 0s 38ms/step\n",
            "1/1 [==============================] - 0s 60ms/step\n",
            "1/1 [==============================] - 0s 36ms/step\n",
            "1/1 [==============================] - 0s 38ms/step\n",
            "1/1 [==============================] - 0s 38ms/step\n",
            "1/1 [==============================] - 0s 35ms/step\n",
            "1/1 [==============================] - 0s 35ms/step\n",
            "1/1 [==============================] - 0s 41ms/step\n",
            "1/1 [==============================] - 0s 42ms/step\n",
            "1/1 [==============================] - 0s 36ms/step\n",
            "1/1 [==============================] - 0s 69ms/step\n",
            "1/1 [==============================] - 0s 38ms/step\n",
            "1/1 [==============================] - 0s 44ms/step\n",
            "1/1 [==============================] - 0s 45ms/step\n",
            "1/1 [==============================] - 0s 34ms/step\n",
            "1/1 [==============================] - 0s 39ms/step\n",
            "1/1 [==============================] - 0s 43ms/step\n"
          ]
        }
      ]
    },
    {
      "cell_type": "code",
      "source": [
        "test_predictions"
      ],
      "metadata": {
        "id": "RtmpM62x81o7",
        "colab": {
          "base_uri": "https://localhost:8080/"
        },
        "outputId": "e26e26b4-6ce7-4851-d699-bad3dd5010e0"
      },
      "execution_count": 59,
      "outputs": [
        {
          "output_type": "execute_result",
          "data": {
            "text/plain": [
              "[array([0.45277232], dtype=float32),\n",
              " array([0.49091125], dtype=float32),\n",
              " array([0.49314618], dtype=float32),\n",
              " array([0.48689824], dtype=float32),\n",
              " array([0.48365927], dtype=float32),\n",
              " array([0.4814554], dtype=float32),\n",
              " array([0.47885257], dtype=float32),\n",
              " array([0.47645724], dtype=float32),\n",
              " array([0.47449964], dtype=float32),\n",
              " array([0.4728008], dtype=float32),\n",
              " array([0.4710167], dtype=float32),\n",
              " array([0.469428], dtype=float32),\n",
              " array([0.46841234], dtype=float32),\n",
              " array([0.46817565], dtype=float32),\n",
              " array([0.46834457], dtype=float32),\n",
              " array([0.46852958], dtype=float32),\n",
              " array([0.46860254], dtype=float32),\n",
              " array([0.46881914], dtype=float32),\n",
              " array([0.46961308], dtype=float32),\n",
              " array([0.47068578], dtype=float32),\n",
              " array([0.47197676], dtype=float32),\n",
              " array([0.47321594], dtype=float32),\n",
              " array([0.47411978], dtype=float32),\n",
              " array([0.47473884], dtype=float32),\n",
              " array([0.47507387], dtype=float32),\n",
              " array([0.47542208], dtype=float32),\n",
              " array([0.47627318], dtype=float32),\n",
              " array([0.47754997], dtype=float32),\n",
              " array([0.4787112], dtype=float32),\n",
              " array([0.47952926], dtype=float32)]"
            ]
          },
          "metadata": {},
          "execution_count": 59
        }
      ]
    },
    {
      "cell_type": "code",
      "source": [
        "xtest"
      ],
      "metadata": {
        "id": "OJsJ99-587JE",
        "colab": {
          "base_uri": "https://localhost:8080/"
        },
        "outputId": "d5ef329e-50f9-4737-e517-fb8b0b7432f0"
      },
      "execution_count": 60,
      "outputs": [
        {
          "output_type": "execute_result",
          "data": {
            "text/plain": [
              "array([[1395.42],\n",
              "       [1460.16],\n",
              "       [1488.25],\n",
              "       [1435.79],\n",
              "       [1452.21],\n",
              "       [1306.1 ],\n",
              "       [1275.08],\n",
              "       [1415.14],\n",
              "       [1485.69],\n",
              "       [1509.24],\n",
              "       [1586.12],\n",
              "       [1239.61],\n",
              "       [1580.9 ],\n",
              "       [1586.19],\n",
              "       [1637.87],\n",
              "       [1405.08],\n",
              "       [1389.62],\n",
              "       [1422.16],\n",
              "       [1477.37],\n",
              "       [1554.58],\n",
              "       [1503.89],\n",
              "       [1530.4 ],\n",
              "       [1461.4 ],\n",
              "       [1338.57],\n",
              "       [1244.13],\n",
              "       [1294.11],\n",
              "       [1318.12],\n",
              "       [1407.79],\n",
              "       [1370.79],\n",
              "       [1428.15]])"
            ]
          },
          "metadata": {},
          "execution_count": 60
        }
      ]
    },
    {
      "cell_type": "code",
      "source": [
        "true_predictions = scaler.inverse_transform(test_predictions)"
      ],
      "metadata": {
        "id": "nrVY7bn8EZDj"
      },
      "execution_count": 61,
      "outputs": []
    },
    {
      "cell_type": "code",
      "source": [
        "Predictions = true_predictions\n",
        "Predictions"
      ],
      "metadata": {
        "id": "JdAJ0Ll1EbLn",
        "colab": {
          "base_uri": "https://localhost:8080/"
        },
        "outputId": "6a6fb960-3ba6-44dc-d18b-67c3db94007c"
      },
      "execution_count": 62,
      "outputs": [
        {
          "output_type": "execute_result",
          "data": {
            "text/plain": [
              "array([[1464.3497435 ],\n",
              "       [1501.07752927],\n",
              "       [1503.22977241],\n",
              "       [1497.21300842],\n",
              "       [1494.09387453],\n",
              "       [1491.97153641],\n",
              "       [1489.46502496],\n",
              "       [1487.15832038],\n",
              "       [1485.27315606],\n",
              "       [1483.63716199],\n",
              "       [1481.91908695],\n",
              "       [1480.38916673],\n",
              "       [1479.41108312],\n",
              "       [1479.18315061],\n",
              "       [1479.34582015],\n",
              "       [1479.52398749],\n",
              "       [1479.5942442 ],\n",
              "       [1479.80283316],\n",
              "       [1480.56739147],\n",
              "       [1481.60040619],\n",
              "       [1482.84361704],\n",
              "       [1484.03694792],\n",
              "       [1484.9073505 ],\n",
              "       [1485.50349935],\n",
              "       [1485.82614066],\n",
              "       [1486.16146721],\n",
              "       [1486.98107143],\n",
              "       [1488.21062125],\n",
              "       [1489.32887389],\n",
              "       [1490.11667891]])"
            ]
          },
          "metadata": {},
          "execution_count": 62
        }
      ]
    },
    {
      "cell_type": "code",
      "source": [
        "#Plotting the Predicted and Actual values\n",
        "\n",
        "pyplot.plot(Predictions, label=\"Predicted Value\")\n",
        "pyplot.plot(xtest, label=\"Actual Value\")\n",
        "pyplot.xlabel(\"Date\")\n",
        "pyplot.ylabel(\"Load\")\n",
        "pyplot.title(\"Energy Load Comparison between Actual and Predicted Value\")\n",
        "pyplot.legend(loc=\"best\")"
      ],
      "metadata": {
        "id": "lUvDyi8g9E2C",
        "colab": {
          "base_uri": "https://localhost:8080/",
          "height": 312
        },
        "outputId": "35d9446f-df9f-4b5c-f9d0-3514bd47b88b"
      },
      "execution_count": 63,
      "outputs": [
        {
          "output_type": "execute_result",
          "data": {
            "text/plain": [
              "<matplotlib.legend.Legend at 0x7f5eb896f6d0>"
            ]
          },
          "metadata": {},
          "execution_count": 63
        },
        {
          "output_type": "display_data",
          "data": {
            "text/plain": [
              "<Figure size 432x288 with 1 Axes>"
            ],
            "image/png": "[encoded data removed]"
          },
          "metadata": {
            "needs_background": "light"
          }
        }
      ]
    },
    {
      "cell_type": "markdown",
      "source": [
        "#Calculating the Error Percentage for LSTM Model"
      ],
      "metadata": {
        "id": "CiNtjTNYKM1C"
      }
    },
    {
      "cell_type": "code",
      "source": [
        "from sklearn.metrics import mean_squared_error\n",
        "from math import sqrt\n",
        "LSTM_rmse=sqrt(mean_squared_error(xtest,Predictions))\n",
        "print(rmse)"
      ],
      "metadata": {
        "id": "XrAVRZJ79Q5A",
        "colab": {
          "base_uri": "https://localhost:8080/"
        },
        "outputId": "77a61a0e-60ca-4db6-8278-e4ebc5c35da4"
      },
      "execution_count": 64,
      "outputs": [
        {
          "output_type": "stream",
          "name": "stdout",
          "text": [
            "146.38213211467308\n"
          ]
        }
      ]
    },
    {
      "cell_type": "code",
      "source": [
        "print(\"RMSE for LSTM Model is : \",LSTM_rmse)\n",
        "print(\"Error Percentage for LSTM Model is : \",(LSTM_rmse/xtest.mean())*100, \"%\")"
      ],
      "metadata": {
        "id": "WG33ETLs-Tvw",
        "colab": {
          "base_uri": "https://localhost:8080/"
        },
        "outputId": "f91653ec-78a8-4f03-a9cc-f29a1f6591d8"
      },
      "execution_count": 65,
      "outputs": [
        {
          "output_type": "stream",
          "name": "stdout",
          "text": [
            "RMSE for LSTM Model is :  116.82546841424819\n",
            "Error Percentage for LSTM Model is :  8.15062734387578 %\n"
          ]
        }
      ]
    }
  ]
}